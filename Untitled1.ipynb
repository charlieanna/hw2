{
 "cells": [
  {
   "cell_type": "code",
   "execution_count": null,
   "metadata": {},
   "outputs": [
    {
     "name": "stderr",
     "output_type": "stream",
     "text": [
      "/Users/ankurkothari/anaconda3/lib/python3.6/importlib/_bootstrap.py:219: RuntimeWarning: compiletime version 3.5 of module 'tensorflow.python.framework.fast_tensor_util' does not match runtime version 3.6\n",
      "  return f(*args, **kwds)\n"
     ]
    }
   ],
   "source": [
    "import tensorflow as tf\n",
    "\n",
    "tf.logging.set_verbosity(tf.logging.INFO)\n",
    "\n",
    "def input_fn():\n",
    "    data = [[[1, 0, 0, 0] for i in range(10)] for _ in range(100)]\n",
    "    label = [[1] for i in range(100)]\n",
    "    x = tf.constant(data, tf.float32)\n",
    "    y_ = tf.constant(label, tf.float32)\n",
    "    return x, y_\n",
    "\n",
    "def model_fn(features, labels, mode):\n",
    "    conv1 = tf.layers.conv1d(features, filters=20, kernel_size=3, padding=\"SAME\")\n",
    "    conv2 = tf.layers.conv1d(conv1, filters=100, kernel_size=3, padding=\"SAME\")\n",
    "    conv3 = tf.layers.conv1d(conv2, filters=50, kernel_size=3, padding=\"SAME\")\n",
    "    conv4 = tf.layers.conv1d(conv3, filters=40, kernel_size=3, padding=\"SAME\")\n",
    "    conv5 = tf.layers.conv1d(conv3, filters=10, kernel_size=3, padding=\"SAME\")\n",
    "    flat = tf.reshape(conv5, shape=[-1, 10*10])\n",
    "    fc = tf.layers.dense(flat, 3)\n",
    "    out = tf.layers.dense(fc, 1)\n",
    "\n",
    "    global_step = tf.train.get_global_step()\n",
    "    loss = tf.losses.sigmoid_cross_entropy(labels, out)\n",
    "    tf.summary.scalar(\"loss\", loss)\n",
    "    train_op = tf.train.GradientDescentOptimizer(1e-2).minimize(loss, global_step)\n",
    "    return tf.estimator.EstimatorSpec(mode=mode, loss=loss, train_op=train_op)\n",
    "\n",
    "\n",
    "est = tf.estimator.Estimator(model_fn)\n",
    "est.train(input_fn, steps=100)"
   ]
  },
  {
   "cell_type": "code",
   "execution_count": null,
   "metadata": {
    "collapsed": true
   },
   "outputs": [],
   "source": []
  }
 ],
 "metadata": {
  "kernelspec": {
   "display_name": "Python 3",
   "language": "python",
   "name": "python3"
  }
 },
 "nbformat": 4,
 "nbformat_minor": 2
}
