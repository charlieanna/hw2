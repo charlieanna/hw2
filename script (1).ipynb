{
  "nbformat": 4,
  "nbformat_minor": 0,
  "metadata": {
    "colab": {
      "name": "script.ipynb",
      "version": "0.3.2",
      "views": {},
      "default_view": {},
      "provenance": [],
      "private_outputs": true,
      "collapsed_sections": []
    },
    "kernelspec": {
      "language": "python",
      "display_name": "Python 3",
      "name": "python3"
    },
    "accelerator": "GPU"
  },
  "cells": [
    {
      "metadata": {
        "id": "Bd91AnWTJa3Z",
        "colab_type": "text"
      },
      "cell_type": "markdown",
      "source": [
        ""
      ]
    },
    {
      "metadata": {
        "id": "2iZhTgUyJa3b",
        "colab_type": "code",
        "colab": {
          "autoexec": {
            "startup": false,
            "wait_interval": 0
          }
        }
      },
      "cell_type": "code",
      "source": [
        "import pandas as pd\n",
        "import numpy as np\n",
        "import tensorflow as tf\n",
        "from sklearn.model_selection import train_test_split"
      ],
      "execution_count": 0,
      "outputs": []
    },
    {
      "metadata": {
        "id": "84IW9dCXJa3e",
        "colab_type": "text"
      },
      "cell_type": "markdown",
      "source": [
        ""
      ]
    },
    {
      "metadata": {
        "id": "Vs-7KL9TJa3e",
        "colab_type": "code",
        "colab": {
          "autoexec": {
            "startup": false,
            "wait_interval": 0
          }
        }
      },
      "cell_type": "code",
      "source": [
        "import numpy as np\n",
        "import tensorflow as tf\n",
        "from keras.datasets import cifar10\n",
        "(features, labels), (X_test_orig, Y_test_orig) = cifar10.load_data()\n",
        "features = features/255 - 0.5\n",
        "labels = labels.flatten()\n",
        "\n",
        "test_images = X_test_orig/255 - 0.5\n",
        "test_labels = Y_test_orig.flatten()\n"
      ],
      "execution_count": 0,
      "outputs": []
    },
    {
      "metadata": {
        "id": "PL9-hWeZJa3i",
        "colab_type": "text"
      },
      "cell_type": "markdown",
      "source": [
        ""
      ]
    },
    {
      "metadata": {
        "id": "2YpAZkvuJa3i",
        "colab_type": "code",
        "colab": {
          "autoexec": {
            "startup": false,
            "wait_interval": 0
          }
        }
      },
      "cell_type": "code",
      "source": [
        ""
      ],
      "execution_count": 0,
      "outputs": []
    },
    {
      "metadata": {
        "id": "_S4DD3ZAJa3o",
        "colab_type": "text"
      },
      "cell_type": "markdown",
      "source": [
        ""
      ]
    },
    {
      "metadata": {
        "id": "JQ_L7WIxJa3q",
        "colab_type": "code",
        "colab": {
          "autoexec": {
            "startup": false,
            "wait_interval": 0
          }
        }
      },
      "cell_type": "code",
      "source": [
        "#for stability\n",
        "def reset_graph(seed=42):\n",
        "    tf.reset_default_graph()\n",
        "    tf.set_random_seed(seed)\n",
        "    np.random.seed(seed)\n",
        "\n",
        "reset_graph()"
      ],
      "execution_count": 0,
      "outputs": []
    },
    {
      "metadata": {
        "id": "D_o3-M1IJa3s",
        "colab_type": "text"
      },
      "cell_type": "markdown",
      "source": [
        ""
      ]
    },
    {
      "metadata": {
        "id": "CEl7C6z9Ja3t",
        "colab_type": "code",
        "colab": {
          "autoexec": {
            "startup": false,
            "wait_interval": 0
          }
        }
      },
      "cell_type": "code",
      "source": [
        "print('designing model')\n",
        "# Training Parameters\n",
        "learning_rate = 0.005\n",
        "n_epochs = 2500 # changed to 2500 for a LB score of ~2.69\n",
        "\n",
        "\n",
        "# Network Parameters\n",
        "num_input = 32*32 #size of the images\n",
        "num_classes = 10 # Binary\n",
        "dropout = 0.4 # Dropout, probability to keep units"
      ],
      "execution_count": 0,
      "outputs": []
    },
    {
      "metadata": {
        "id": "Xh75JM1SJa3v",
        "colab_type": "text"
      },
      "cell_type": "markdown",
      "source": [
        ""
      ]
    },
    {
      "metadata": {
        "id": "k0ogIUXhJa3w",
        "colab_type": "code",
        "colab": {
          "autoexec": {
            "startup": false,
            "wait_interval": 0
          }
        }
      },
      "cell_type": "code",
      "source": [
        "X = tf.placeholder(tf.float32, shape=(None, 32, 32, 3), name=\"X\")\n",
        "y = tf.placeholder(tf.int64, shape=(None), name=\"y\")\n",
        "\n",
        "\n",
        "with tf.variable_scope('ConvNet'):\n",
        "\n",
        "    conv1 = tf.layers.conv2d(\n",
        "      inputs=X,\n",
        "      filters=32,\n",
        "      kernel_size=[5, 5],\n",
        "      padding=\"valid\",\n",
        "      activation=tf.nn.relu, name=\"conv1\")\n",
        "\n",
        "    conv2 = tf.layers.conv2d(conv1, filters=64, \n",
        "                         kernel_size=3,\n",
        "                         strides=2, padding=\"valid\",\n",
        "                         activation=tf.nn.relu, name=\"conv2\")\n",
        "    pool3 = tf.nn.max_pool(conv2,\n",
        "                       ksize=[1, 2, 2, 1],\n",
        "                       strides=[1, 2, 2, 1],\n",
        "                       padding=\"VALID\")\n",
        "    conv4 = tf.layers.conv2d(pool3, filters=128, \n",
        "                         kernel_size=4,\n",
        "                         strides=3, padding=\"SAME\",\n",
        "                         activation=tf.nn.relu, name=\"conv4\")\n",
        "\n",
        "    pool5 = tf.nn.max_pool(conv4,\n",
        "                       ksize=[1, 2, 2, 1],\n",
        "                       strides=[1, 1, 1, 1],\n",
        "                       padding=\"VALID\")\n",
        "\n",
        "    pool5_flat = tf.contrib.layers.flatten(pool5)\n",
        "\n",
        "    fullyconn1 = tf.layers.dense(pool5_flat, 128,\n",
        "                             activation=tf.nn.relu, name=\"fc1\")\n",
        "\n",
        "    fullyconn2 = tf.layers.dense(fullyconn1, 64,\n",
        "                             activation=tf.nn.relu, name=\"fc2\")\n",
        "    logits = tf.layers.dense(fullyconn2, 10, name=\"output\")"
      ],
      "execution_count": 0,
      "outputs": []
    },
    {
      "metadata": {
        "id": "0x5iKDIpJa3y",
        "colab_type": "text"
      },
      "cell_type": "markdown",
      "source": [
        ""
      ]
    },
    {
      "metadata": {
        "id": "tNRslhObJa3y",
        "colab_type": "code",
        "colab": {
          "autoexec": {
            "startup": false,
            "wait_interval": 0
          }
        }
      },
      "cell_type": "code",
      "source": [
        "with tf.name_scope(\"loss\"):\n",
        "    xentropy = tf.nn.sparse_softmax_cross_entropy_with_logits(labels=y, logits=logits)\n",
        "    loss = tf.reduce_mean(xentropy, name=\"loss\")"
      ],
      "execution_count": 0,
      "outputs": []
    },
    {
      "metadata": {
        "id": "m2LpCmTUJa31",
        "colab_type": "text"
      },
      "cell_type": "markdown",
      "source": [
        ""
      ]
    },
    {
      "metadata": {
        "id": "EQe1J59EJa32",
        "colab_type": "code",
        "colab": {
          "autoexec": {
            "startup": false,
            "wait_interval": 0
          }
        }
      },
      "cell_type": "code",
      "source": [
        "with tf.name_scope(\"train\"):\n",
        "    optimizer = tf.train.GradientDescentOptimizer(learning_rate)\n",
        "    training_op = optimizer.minimize(loss)"
      ],
      "execution_count": 0,
      "outputs": []
    },
    {
      "metadata": {
        "id": "mIxK9suqJa35",
        "colab_type": "text"
      },
      "cell_type": "markdown",
      "source": [
        ""
      ]
    },
    {
      "metadata": {
        "id": "0ZSe2VMDJa36",
        "colab_type": "code",
        "colab": {
          "autoexec": {
            "startup": false,
            "wait_interval": 0
          }
        }
      },
      "cell_type": "code",
      "source": [
        "with tf.name_scope(\"eval\"):\n",
        "    correct = tf.nn.in_top_k(logits, y, 1)\n",
        "    accuracy = tf.reduce_mean(tf.cast(correct, tf.float32))"
      ],
      "execution_count": 0,
      "outputs": []
    },
    {
      "metadata": {
        "id": "Wf3suPSYJa38",
        "colab_type": "text"
      },
      "cell_type": "markdown",
      "source": [
        ""
      ]
    },
    {
      "metadata": {
        "id": "7Z-tn6QIJa39",
        "colab_type": "code",
        "colab": {
          "autoexec": {
            "startup": false,
            "wait_interval": 0
          }
        }
      },
      "cell_type": "code",
      "source": [
        "init = tf.global_variables_initializer()\n",
        "#saver = tf.train.Saver()"
      ],
      "execution_count": 0,
      "outputs": []
    },
    {
      "metadata": {
        "id": "JgeNyI1MJa3_",
        "colab_type": "text"
      },
      "cell_type": "markdown",
      "source": [
        ""
      ]
    },
    {
      "metadata": {
        "id": "ukUrSHIyJa3_",
        "colab_type": "code",
        "colab": {
          "autoexec": {
            "startup": false,
            "wait_interval": 0
          }
        }
      },
      "cell_type": "code",
      "source": [
        "print('training model\\n')\n",
        "with tf.Session() as sess:\n",
        "    init.run()\n",
        "    for epoch in range(n_epochs):\n",
        "        sess.run(training_op, feed_dict={X: features, y: labels})   \n",
        "        acc_train = accuracy.eval(feed_dict={X: X_train, y: y_train})\n",
        "        acc_test = accuracy.eval(feed_dict={X: X_valid,\n",
        "                                            y: y_valid})\n",
        "    \n",
        "        print(epoch, \"Train accuracy:\", acc_train, \"Validation accuracy:\", acc_test)\n",
        "    save_path = saver.save(sess, \"./cam_iceberg_model_final.ckpt\")"
      ],
      "execution_count": 0,
      "outputs": []
    },
    {
      "metadata": {
        "id": "eFK11SDQJa4D",
        "colab_type": "text"
      },
      "cell_type": "markdown",
      "source": [
        "## Prepare the test data\n",
        "\n",
        "As we did with the training and validation data, before making predictions I convert the type of the test data to float32.\n"
      ]
    },
    {
      "metadata": {
        "id": "mYaqnPmaJa4E",
        "colab_type": "code",
        "colab": {
          "autoexec": {
            "startup": false,
            "wait_interval": 0
          }
        }
      },
      "cell_type": "code",
      "source": [
        "#convert the test images to float32\n",
        "test_images =test_images.astype(np.float32) \n",
        "test_images.shape\n"
      ],
      "execution_count": 0,
      "outputs": []
    },
    {
      "metadata": {
        "id": "mgTfMhFGJa4K",
        "colab_type": "text"
      },
      "cell_type": "markdown",
      "source": [
        "## Make predictions\n",
        "\n",
        "The last line y_pred = Z[:,1] selects the second column of the predictions because we want 'probability of iceberg' not 'probability of not iceberg' which would be column 0."
      ]
    },
    {
      "metadata": {
        "id": "1CqmeofQJa4L",
        "colab_type": "code",
        "colab": {
          "autoexec": {
            "startup": false,
            "wait_interval": 0
          }
        }
      },
      "cell_type": "code",
      "source": [
        "\n",
        "print('making predictions\\n')\n",
        "#make external predictions on the test_dat\n",
        "with tf.Session() as sess:\n",
        "    saver.restore(sess, \"./cam_iceberg_model_final.ckpt\") # or better, use save_path\n",
        "    Z = logits.eval(feed_dict={X: test_images}) #outputs switched to logits\n",
        "    y_pred = Z[:,1]\n",
        "\n"
      ],
      "execution_count": 0,
      "outputs": []
    },
    {
      "metadata": {
        "id": "6CtEaCu5Ja4O",
        "colab_type": "text"
      },
      "cell_type": "markdown",
      "source": [
        "## Write output to file\n",
        "\n",
        "Lastly we take the predictions and construct a dataframe which we output to a .csv and can then submit for evalutation!"
      ]
    },
    {
      "metadata": {
        "id": "Z6i5D5jzJa4O",
        "colab_type": "code",
        "colab": {
          "autoexec": {
            "startup": false,
            "wait_interval": 0
          }
        }
      },
      "cell_type": "code",
      "source": [
        "output = pd.DataFrame(test_df['id'])\n",
        "output['is_iceberg'] = y_pred\n",
        "\n",
        "output.to_csv('cam_tf_cnn.csv', index=False)"
      ],
      "execution_count": 0,
      "outputs": []
    }
  ]
}