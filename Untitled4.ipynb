{
 "cells": [
  {
   "cell_type": "code",
   "execution_count": 1,
   "metadata": {
    "collapsed": true
   },
   "outputs": [],
   "source": [
    "def forward_propagation(X):\n",
    "  \n",
    "  # Convolutional Layer #1\n",
    "  conv1 = tf.layers.conv2d(\n",
    "      inputs=X,\n",
    "      filters=32,\n",
    "      kernel_size=[5, 5],\n",
    "      padding=\"valid\",\n",
    "      activation=tf.nn.relu)\n",
    "\n",
    "  conv2 = tf.layers.conv2d(conv1, filters=64, \n",
    "                       kernel_size=3,\n",
    "                       strides=2, padding=\"valid\",\n",
    "                       activation=tf.nn.relu, name=\"conv2\")\n",
    "  pool3 = tf.nn.max_pool(conv2,\n",
    "                     ksize=[1, 2, 2, 1],\n",
    "                     strides=[1, 2, 2, 1],\n",
    "                     padding=\"VALID\")\n",
    "  conv4 = tf.layers.conv2d(pool3, filters=128, \n",
    "                       kernel_size=4,\n",
    "                       strides=3, padding=\"SAME\",\n",
    "                       activation=tf.nn.relu, name=\"conv4\")\n",
    "\n",
    "  pool5 = tf.nn.max_pool(conv4,\n",
    "                     ksize=[1, 2, 2, 1],\n",
    "                     strides=[1, 1, 1, 1],\n",
    "                     padding=\"VALID\")\n",
    "\n",
    "  pool5_flat = tf.contrib.layers.flatten(pool5)\n",
    "\n",
    "  fullyconn1 = tf.layers.dense(pool5_flat, 128,\n",
    "                           activation=tf.nn.relu, name=\"fc1\")\n",
    "\n",
    "  fullyconn2 = tf.layers.dense(fullyconn1, 64,\n",
    "                           activation=tf.nn.relu, name=\"fc2\")\n",
    "  logits = tf.layers.dense(fullyconn2, 10, name=\"output\")\n",
    "  return logits"
   ]
  },
  {
   "cell_type": "code",
   "execution_count": 2,
   "metadata": {},
   "outputs": [
    {
     "name": "stderr",
     "output_type": "stream",
     "text": [
      "/Users/ankurkothari/anaconda3/lib/python3.6/site-packages/h5py/__init__.py:34: FutureWarning: Conversion of the second argument of issubdtype from `float` to `np.floating` is deprecated. In future, it will be treated as `np.float64 == np.dtype(float).type`.\n",
      "  from ._conv import register_converters as _register_converters\n",
      "Using TensorFlow backend.\n",
      "/Users/ankurkothari/anaconda3/lib/python3.6/importlib/_bootstrap.py:219: RuntimeWarning: compiletime version 3.5 of module 'tensorflow.python.framework.fast_tensor_util' does not match runtime version 3.6\n",
      "  return f(*args, **kwds)\n"
     ]
    }
   ],
   "source": [
    "from keras.datasets import cifar10"
   ]
  },
  {
   "cell_type": "code",
   "execution_count": 3,
   "metadata": {
    "collapsed": true
   },
   "outputs": [],
   "source": [
    "(features, labels), (X_test_orig, Y_test_orig) = cifar10.load_data()\n",
    "features = features/255 - 0.5\n",
    "labels = labels.flatten()\n",
    "\n",
    "test_images = X_test_orig/255 - 0.5\n",
    "test_labels = Y_test_orig.flatten()\n"
   ]
  },
  {
   "cell_type": "code",
   "execution_count": 5,
   "metadata": {},
   "outputs": [
    {
     "name": "stdout",
     "output_type": "stream",
     "text": [
      "INFO:tensorflow:Restoring parameters from ADL/cifar_model\n",
      "Model restored.\n",
      "[<tf.Variable 'conv2d/kernel:0' shape=(5, 5, 3, 32) dtype=float32_ref>, <tf.Variable 'conv2d/bias:0' shape=(32,) dtype=float32_ref>, <tf.Variable 'conv2/kernel:0' shape=(3, 3, 32, 64) dtype=float32_ref>, <tf.Variable 'conv2/bias:0' shape=(64,) dtype=float32_ref>, <tf.Variable 'conv4/kernel:0' shape=(4, 4, 64, 128) dtype=float32_ref>, <tf.Variable 'conv4/bias:0' shape=(128,) dtype=float32_ref>, <tf.Variable 'fc1/kernel:0' shape=(128, 128) dtype=float32_ref>, <tf.Variable 'fc1/bias:0' shape=(128,) dtype=float32_ref>, <tf.Variable 'fc2/kernel:0' shape=(128, 64) dtype=float32_ref>, <tf.Variable 'fc2/bias:0' shape=(64,) dtype=float32_ref>, <tf.Variable 'output/kernel:0' shape=(64, 10) dtype=float32_ref>, <tf.Variable 'output/bias:0' shape=(10,) dtype=float32_ref>, <tf.Variable 'beta1_power:0' shape=() dtype=float32_ref>, <tf.Variable 'beta2_power:0' shape=() dtype=float32_ref>, <tf.Variable 'conv2d/kernel/Adam:0' shape=(5, 5, 3, 32) dtype=float32_ref>, <tf.Variable 'conv2d/kernel/Adam_1:0' shape=(5, 5, 3, 32) dtype=float32_ref>, <tf.Variable 'conv2d/bias/Adam:0' shape=(32,) dtype=float32_ref>, <tf.Variable 'conv2d/bias/Adam_1:0' shape=(32,) dtype=float32_ref>, <tf.Variable 'conv2/kernel/Adam:0' shape=(3, 3, 32, 64) dtype=float32_ref>, <tf.Variable 'conv2/kernel/Adam_1:0' shape=(3, 3, 32, 64) dtype=float32_ref>, <tf.Variable 'conv2/bias/Adam:0' shape=(64,) dtype=float32_ref>, <tf.Variable 'conv2/bias/Adam_1:0' shape=(64,) dtype=float32_ref>, <tf.Variable 'conv4/kernel/Adam:0' shape=(4, 4, 64, 128) dtype=float32_ref>, <tf.Variable 'conv4/kernel/Adam_1:0' shape=(4, 4, 64, 128) dtype=float32_ref>, <tf.Variable 'conv4/bias/Adam:0' shape=(128,) dtype=float32_ref>, <tf.Variable 'conv4/bias/Adam_1:0' shape=(128,) dtype=float32_ref>, <tf.Variable 'fc1/kernel/Adam:0' shape=(128, 128) dtype=float32_ref>, <tf.Variable 'fc1/kernel/Adam_1:0' shape=(128, 128) dtype=float32_ref>, <tf.Variable 'fc1/bias/Adam:0' shape=(128,) dtype=float32_ref>, <tf.Variable 'fc1/bias/Adam_1:0' shape=(128,) dtype=float32_ref>, <tf.Variable 'fc2/kernel/Adam:0' shape=(128, 64) dtype=float32_ref>, <tf.Variable 'fc2/kernel/Adam_1:0' shape=(128, 64) dtype=float32_ref>, <tf.Variable 'fc2/bias/Adam:0' shape=(64,) dtype=float32_ref>, <tf.Variable 'fc2/bias/Adam_1:0' shape=(64,) dtype=float32_ref>, <tf.Variable 'output/kernel/Adam:0' shape=(64, 10) dtype=float32_ref>, <tf.Variable 'output/kernel/Adam_1:0' shape=(64, 10) dtype=float32_ref>, <tf.Variable 'output/bias/Adam:0' shape=(10,) dtype=float32_ref>, <tf.Variable 'output/bias/Adam_1:0' shape=(10,) dtype=float32_ref>]\n"
     ]
    }
   ],
   "source": [
    "import tensorflow as tf\n",
    "from tensorflow.python.tools import inspect_checkpoint as chkp\n",
    "\n",
    "tf.reset_default_graph()\n",
    "with tf.Session() as sess:\n",
    "    # Restore variables from disk.\n",
    "    x = tf.placeholder(\"float\", [50000, 32, 32, 3])\n",
    "    \n",
    "    \n",
    "    \n",
    "    saver = tf.train.import_meta_graph('ADL/cifar_model.meta')\n",
    "    saver.restore(sess,\"ADL/cifar_model\")\n",
    "    print(\"Model restored.\")\n",
    "    print(tf.global_variables())\n",
    "    #for var in tf.train.list_variables(\"ADL/cifar_model\"):\n",
    "     #   print(var)\n",
    "    \n",
    "    # Check the values of the variables\n",
    "    #prediction = sess.run(p, feed_dict = {x: features})\n",
    "    #print(predicition)"
   ]
  },
  {
   "cell_type": "code",
   "execution_count": 42,
   "metadata": {
    "collapsed": true
   },
   "outputs": [],
   "source": [
    "builder = tf.saved_model.builder.SavedModelBuilder(\"ADL/one\")"
   ]
  },
  {
   "cell_type": "code",
   "execution_count": 6,
   "metadata": {},
   "outputs": [
    {
     "name": "stdout",
     "output_type": "stream",
     "text": [
      "INFO:tensorflow:Using default config.\n",
      "WARNING:tensorflow:Using temporary folder as model directory: /var/folders/z0/7mvknc852v16yt6j7nhtjscc0000gn/T/tmp2yzwa4a2\n",
      "INFO:tensorflow:Using config: {'_model_dir': '/var/folders/z0/7mvknc852v16yt6j7nhtjscc0000gn/T/tmp2yzwa4a2', '_tf_random_seed': None, '_save_summary_steps': 100, '_save_checkpoints_steps': None, '_save_checkpoints_secs': 600, '_session_config': None, '_keep_checkpoint_max': 5, '_keep_checkpoint_every_n_hours': 10000, '_log_step_count_steps': 100, '_service': None, '_cluster_spec': <tensorflow.python.training.server_lib.ClusterSpec object at 0x11b358208>, '_task_type': 'worker', '_task_id': 0, '_global_id': 0, '_master': '', '_evaluation_master': '', '_is_chief': True, '_num_ps_replicas': 0, '_num_worker_replicas': 1}\n",
      "INFO:tensorflow:Calling model_fn.\n",
      "WARNING:tensorflow:From /Users/ankurkothari/anaconda3/lib/python3.6/site-packages/tensorflow/python/util/deprecation.py:381: calling conv1d (from tensorflow.python.ops.nn_ops) with data_format=NHWC is deprecated and will be removed in a future version.\n",
      "Instructions for updating:\n",
      "`NHWC` for data_format is deprecated, use `NWC` instead\n",
      "INFO:tensorflow:Done calling model_fn.\n",
      "INFO:tensorflow:Create CheckpointSaverHook.\n",
      "INFO:tensorflow:Graph was finalized.\n",
      "INFO:tensorflow:Running local_init_op.\n",
      "INFO:tensorflow:Done running local_init_op.\n",
      "INFO:tensorflow:Saving checkpoints for 1 into /var/folders/z0/7mvknc852v16yt6j7nhtjscc0000gn/T/tmp2yzwa4a2/model.ckpt.\n",
      "INFO:tensorflow:loss = 0.68759644, step = 1\n",
      "INFO:tensorflow:Saving checkpoints for 100 into /var/folders/z0/7mvknc852v16yt6j7nhtjscc0000gn/T/tmp2yzwa4a2/model.ckpt.\n",
      "INFO:tensorflow:Loss for final step: 0.0024737082.\n"
     ]
    },
    {
     "data": {
      "text/plain": [
       "<tensorflow.python.estimator.estimator.Estimator at 0x11b358198>"
      ]
     },
     "execution_count": 6,
     "metadata": {},
     "output_type": "execute_result"
    }
   ],
   "source": [
    "import tensorflow as tf\n",
    "\n",
    "tf.logging.set_verbosity(tf.logging.INFO)\n",
    "\n",
    "def input_fn():\n",
    "    data = [[[1, 0, 0, 0] for i in range(10)] for _ in range(100)]\n",
    "    label = [[1] for i in range(100)]\n",
    "    x = tf.constant(data, tf.float32)\n",
    "    y_ = tf.constant(label, tf.float32)\n",
    "    return x, y_\n",
    "\n",
    "def model_fn(features, labels, mode):\n",
    "    conv1 = tf.layers.conv1d(features, filters=20, kernel_size=3, padding=\"SAME\")\n",
    "    conv2 = tf.layers.conv1d(conv1, filters=100, kernel_size=3, padding=\"SAME\")\n",
    "    conv3 = tf.layers.conv1d(conv2, filters=50, kernel_size=3, padding=\"SAME\")\n",
    "    conv4 = tf.layers.conv1d(conv3, filters=40, kernel_size=3, padding=\"SAME\")\n",
    "    conv5 = tf.layers.conv1d(conv3, filters=10, kernel_size=3, padding=\"SAME\")\n",
    "    flat = tf.reshape(conv5, shape=[-1, 10*10])\n",
    "    fc = tf.layers.dense(flat, 3)\n",
    "    out = tf.layers.dense(fc, 1)\n",
    "\n",
    "    global_step = tf.train.get_global_step()\n",
    "    loss = tf.losses.sigmoid_cross_entropy(labels, out)\n",
    "    tf.summary.scalar(\"loss\", loss)\n",
    "    train_op = tf.train.GradientDescentOptimizer(1e-2).minimize(loss, global_step)\n",
    "    return tf.estimator.EstimatorSpec(mode=mode, loss=loss, train_op=train_op)\n",
    "\n",
    "\n",
    "est = tf.estimator.Estimator(model_fn)\n",
    "est.train(input_fn, steps=100)\n"
   ]
  },
  {
   "cell_type": "code",
   "execution_count": null,
   "metadata": {
    "collapsed": true
   },
   "outputs": [],
   "source": []
  }
 ],
 "metadata": {
  "kernelspec": {
   "display_name": "Python 3",
   "language": "python",
   "name": "python3"
  },
  "language_info": {
   "codemirror_mode": {
    "name": "ipython",
    "version": 3
   },
   "file_extension": ".py",
   "mimetype": "text/x-python",
   "name": "python",
   "nbconvert_exporter": "python",
   "pygments_lexer": "ipython3",
   "version": "3.6.3"
  }
 },
 "nbformat": 4,
 "nbformat_minor": 2
}
