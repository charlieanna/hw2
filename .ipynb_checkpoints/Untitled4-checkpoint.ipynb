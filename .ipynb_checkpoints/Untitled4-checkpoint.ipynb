{
 "cells": [
  {
   "cell_type": "code",
   "execution_count": 25,
   "metadata": {
    "collapsed": true
   },
   "outputs": [],
   "source": [
    "def forward_propagation(X):\n",
    "  \n",
    "  # Convolutional Layer #1\n",
    "  conv1 = tf.layers.conv2d(\n",
    "      inputs=X,\n",
    "      filters=32,\n",
    "      kernel_size=[5, 5],\n",
    "      padding=\"valid\",\n",
    "      activation=tf.nn.relu)\n",
    "\n",
    "  conv2 = tf.layers.conv2d(conv1, filters=64, \n",
    "                       kernel_size=3,\n",
    "                       strides=2, padding=\"valid\",\n",
    "                       activation=tf.nn.relu, name=\"conv2\")\n",
    "  pool3 = tf.nn.max_pool(conv2,\n",
    "                     ksize=[1, 2, 2, 1],\n",
    "                     strides=[1, 2, 2, 1],\n",
    "                     padding=\"VALID\")\n",
    "  conv4 = tf.layers.conv2d(pool3, filters=128, \n",
    "                       kernel_size=4,\n",
    "                       strides=3, padding=\"SAME\",\n",
    "                       activation=tf.nn.relu, name=\"conv4\")\n",
    "\n",
    "  pool5 = tf.nn.max_pool(conv4,\n",
    "                     ksize=[1, 2, 2, 1],\n",
    "                     strides=[1, 1, 1, 1],\n",
    "                     padding=\"VALID\")\n",
    "\n",
    "  pool5_flat = tf.contrib.layers.flatten(pool5)\n",
    "\n",
    "  fullyconn1 = tf.layers.dense(pool5_flat, 128,\n",
    "                           activation=tf.nn.relu, name=\"fc1\")\n",
    "\n",
    "  fullyconn2 = tf.layers.dense(fullyconn1, 64,\n",
    "                           activation=tf.nn.relu, name=\"fc2\")\n",
    "  logits = tf.layers.dense(fullyconn2, 10, name=\"output\")\n",
    "  return logits"
   ]
  },
  {
   "cell_type": "code",
   "execution_count": 26,
   "metadata": {
    "collapsed": true
   },
   "outputs": [],
   "source": [
    "from keras.datasets import cifar10"
   ]
  },
  {
   "cell_type": "code",
   "execution_count": 27,
   "metadata": {
    "collapsed": true
   },
   "outputs": [],
   "source": [
    "(features, labels), (X_test_orig, Y_test_orig) = cifar10.load_data()\n",
    "features = features/255 - 0.5\n",
    "labels = labels.flatten()\n",
    "\n",
    "test_images = X_test_orig/255 - 0.5\n",
    "test_labels = Y_test_orig.flatten()\n"
   ]
  },
  {
   "cell_type": "code",
   "execution_count": null,
   "metadata": {},
   "outputs": [],
   "source": [
    "import tensorflow as tf\n",
    "from tensorflow.python.tools import inspect_checkpoint as chkp\n",
    "\n",
    "tf.reset_default_graph()\n",
    "with tf.Session() as sess:\n",
    "    # Restore variables from disk.\n",
    "    x = tf.placeholder(\"float\", [50000, 32, 32, 3])\n",
    "    \n",
    "    \n",
    "    \n",
    "    saver = tf.train.import_meta_graph('ADL/cifar_model.meta')\n",
    "    saver.restore(sess,\"ADL/cifar_model\")\n",
    "    print(\"Model restored.\")\n",
    "    print(tf.all_variables())\n",
    "    #for var in tf.train.list_variables(\"ADL/cifar_model\"):\n",
    "     #   print(var)\n",
    "    \n",
    "    # Check the values of the variables\n",
    "    #prediction = sess.run(p, feed_dict = {x: features})\n",
    "    #print(predicition)"
   ]
  },
  {
   "cell_type": "code",
   "execution_count": 42,
   "metadata": {},
   "outputs": [],
   "source": [
    "builder = tf.saved_model.builder.SavedModelBuilder(\"ADL/one\")"
   ]
  },
  {
   "cell_type": "code",
   "execution_count": null,
   "metadata": {
    "collapsed": true
   },
   "outputs": [],
   "source": []
  }
 ],
 "metadata": {
  "kernelspec": {
   "display_name": "Python 3",
   "language": "python",
   "name": "python3"
  },
  "language_info": {
   "codemirror_mode": {
    "name": "ipython",
    "version": 3
   },
   "file_extension": ".py",
   "mimetype": "text/x-python",
   "name": "python",
   "nbconvert_exporter": "python",
   "pygments_lexer": "ipython3",
   "version": "3.6.3"
  }
 },
 "nbformat": 4,
 "nbformat_minor": 2
}
