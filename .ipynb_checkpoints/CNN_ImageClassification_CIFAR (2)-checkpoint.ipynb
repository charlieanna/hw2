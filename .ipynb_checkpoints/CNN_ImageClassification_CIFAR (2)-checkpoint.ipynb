{
 "cells": [
  {
   "cell_type": "code",
   "execution_count": 1,
   "metadata": {
    "colab": {
     "autoexec": {
      "startup": false,
      "wait_interval": 0
     }
    },
    "colab_type": "code",
    "id": "dAYhybfWj1ON"
   },
   "outputs": [],
   "source": [
    "from __future__ import absolute_import, division, print_function"
   ]
  },
  {
   "cell_type": "code",
   "execution_count": 2,
   "metadata": {
    "colab": {
     "autoexec": {
      "startup": false,
      "wait_interval": 0
     },
     "base_uri": "https://localhost:8080/",
     "height": 34,
     "output_extras": [
      {
       "item_id": 1
      }
     ]
    },
    "colab_type": "code",
    "executionInfo": {
     "elapsed": 1019,
     "status": "ok",
     "timestamp": 1521480321214,
     "user": {
      "displayName": "Ankur Kothari",
      "photoUrl": "//lh5.googleusercontent.com/-Lskyz0lrQRk/AAAAAAAAAAI/AAAAAAAACaI/etLcVFjKyHk/s50-c-k-no/photo.jpg",
      "userId": "111542912336803354359"
     },
     "user_tz": 240
    },
    "id": "YtHsGhpPj1OS",
    "outputId": "31497efb-3e81-4c08-9994-697643d52f5f"
   },
   "outputs": [
    {
     "name": "stderr",
     "output_type": "stream",
     "text": [
      "Using TensorFlow backend.\n"
     ]
    }
   ],
   "source": [
    "import numpy as np\n",
    "import tensorflow as tf\n",
    "from keras.datasets import cifar10"
   ]
  },
  {
   "cell_type": "code",
   "execution_count": 3,
   "metadata": {
    "colab": {
     "autoexec": {
      "startup": false,
      "wait_interval": 0
     }
    },
    "colab_type": "code",
    "id": "_-ysJ4rIj1Od"
   },
   "outputs": [],
   "source": [
    "%matplotlib inline\n",
    "\n",
    "import matplotlib\n",
    "import matplotlib.pyplot as plt"
   ]
  },
  {
   "cell_type": "code",
   "execution_count": 4,
   "metadata": {
    "colab": {
     "autoexec": {
      "startup": false,
      "wait_interval": 0
     },
     "base_uri": "https://localhost:8080/",
     "height": 68,
     "output_extras": [
      {
       "item_id": 1
      }
     ]
    },
    "colab_type": "code",
    "executionInfo": {
     "elapsed": 301,
     "status": "ok",
     "timestamp": 1521480322025,
     "user": {
      "displayName": "Ankur Kothari",
      "photoUrl": "//lh5.googleusercontent.com/-Lskyz0lrQRk/AAAAAAAAAAI/AAAAAAAACaI/etLcVFjKyHk/s50-c-k-no/photo.jpg",
      "userId": "111542912336803354359"
     },
     "user_tz": 240
    },
    "id": "87cbAwvDj1Oo",
    "outputId": "75d365da-7a94-4350-807e-cfca68e2b606"
   },
   "outputs": [
    {
     "name": "stdout",
     "output_type": "stream",
     "text": [
      "1.3.0\n",
      "1.13.3\n",
      "2.1.0\n"
     ]
    }
   ],
   "source": [
    "print(tf.__version__)\n",
    "print(np.__version__)\n",
    "print(matplotlib.__version__)"
   ]
  },
  {
   "cell_type": "code",
   "execution_count": 5,
   "metadata": {
    "colab": {
     "autoexec": {
      "startup": false,
      "wait_interval": 0
     }
    },
    "colab_type": "code",
    "id": "77Uv4qJoj1O-"
   },
   "outputs": [],
   "source": [
    "(features, labels), (X_test_orig, Y_test_orig) = cifar10.load_data()\n",
    "features = features/255 - 0.5\n",
    "labels = labels.flatten()\n",
    "\n",
    "test_images = X_test_orig/255 - 0.5\n",
    "test_labels = Y_test_orig.flatten()\n"
   ]
  },
  {
   "cell_type": "code",
   "execution_count": 6,
   "metadata": {
    "colab": {
     "autoexec": {
      "startup": false,
      "wait_interval": 0
     },
     "base_uri": "https://localhost:8080/",
     "height": 34,
     "output_extras": [
      {
       "item_id": 1
      }
     ]
    },
    "colab_type": "code",
    "executionInfo": {
     "elapsed": 318,
     "status": "ok",
     "timestamp": 1521480325581,
     "user": {
      "displayName": "Ankur Kothari",
      "photoUrl": "//lh5.googleusercontent.com/-Lskyz0lrQRk/AAAAAAAAAAI/AAAAAAAACaI/etLcVFjKyHk/s50-c-k-no/photo.jpg",
      "userId": "111542912336803354359"
     },
     "user_tz": 240
    },
    "id": "2RshBXh0j1PK",
    "outputId": "64d0e327-c23f-4241-f613-a36fb0f23edf"
   },
   "outputs": [
    {
     "data": {
      "text/plain": [
       "(32, 32, 3)"
      ]
     },
     "execution_count": 6,
     "metadata": {},
     "output_type": "execute_result"
    }
   ],
   "source": [
    "features[0].shape"
   ]
  },
  {
   "cell_type": "code",
   "execution_count": 7,
   "metadata": {
    "colab": {
     "autoexec": {
      "startup": false,
      "wait_interval": 0
     },
     "base_uri": "https://localhost:8080/",
     "height": 34,
     "output_extras": [
      {
       "item_id": 1
      }
     ]
    },
    "colab_type": "code",
    "executionInfo": {
     "elapsed": 270,
     "status": "ok",
     "timestamp": 1521480326102,
     "user": {
      "displayName": "Ankur Kothari",
      "photoUrl": "//lh5.googleusercontent.com/-Lskyz0lrQRk/AAAAAAAAAAI/AAAAAAAACaI/etLcVFjKyHk/s50-c-k-no/photo.jpg",
      "userId": "111542912336803354359"
     },
     "user_tz": 240
    },
    "id": "mTi3RrG8j1PP",
    "outputId": "20f32801-4402-4770-bd21-6bdbab5cde39"
   },
   "outputs": [
    {
     "data": {
      "text/plain": [
       "array([6, 9, 9, ..., 9, 1, 1], dtype=uint8)"
      ]
     },
     "execution_count": 7,
     "metadata": {},
     "output_type": "execute_result"
    }
   ],
   "source": [
    "labels = labels.flatten()\n",
    "labels"
   ]
  },
  {
   "cell_type": "code",
   "execution_count": 8,
   "metadata": {
    "colab": {
     "autoexec": {
      "startup": false,
      "wait_interval": 0
     }
    },
    "colab_type": "code",
    "id": "XaWN6ABBj1Pw"
   },
   "outputs": [],
   "source": [
    "height = 32\n",
    "width = 32\n",
    "channels = 3\n",
    "n_inputs = height * width"
   ]
  },
  {
   "cell_type": "code",
   "execution_count": 9,
   "metadata": {
    "colab": {
     "autoexec": {
      "startup": false,
      "wait_interval": 0
     }
    },
    "colab_type": "code",
    "id": "9lDE6riSj1Pz"
   },
   "outputs": [],
   "source": [
    "tf.reset_default_graph()"
   ]
  },
  {
   "cell_type": "code",
   "execution_count": 34,
   "metadata": {
    "colab": {
     "autoexec": {
      "startup": false,
      "wait_interval": 0
     }
    },
    "colab_type": "code",
    "id": "Syyll83zj1P7"
   },
   "outputs": [],
   "source": [
    "def initialize_parameters():\n",
    "    height = 32\n",
    "    width = 32\n",
    "    channels = 3\n",
    "    n_inputs = height * width\n",
    "    X = tf.placeholder(tf.float32, shape=[None,  height, width, channels], name=\"X\")\n",
    "    \n",
    "    y = tf.placeholder(tf.int32, shape=[None], name=\"y\")\n",
    "    return X, y"
   ]
  },
  {
   "cell_type": "code",
   "execution_count": null,
   "metadata": {
    "colab": {
     "autoexec": {
      "startup": false,
      "wait_interval": 0
     }
    },
    "colab_type": "code",
    "id": "UjYrY32Jj1QD"
   },
   "outputs": [],
   "source": []
  },
  {
   "cell_type": "code",
   "execution_count": 35,
   "metadata": {
    "colab": {
     "autoexec": {
      "startup": false,
      "wait_interval": 0
     }
    },
    "colab_type": "code",
    "id": "bQwiwYK5j1Q1"
   },
   "outputs": [],
   "source": [
    "def get_next_batch(features, labels, train_size, batch_index, batch_size):\n",
    "    training_images = features[:train_size,:,:]\n",
    "    training_labels = labels[:train_size]\n",
    "    \n",
    "    start_index = batch_index * batch_size\n",
    "    end_index = start_index + batch_size\n",
    "\n",
    "    return features[start_index:end_index,:,:], labels[start_index:end_index]"
   ]
  },
  {
   "cell_type": "code",
   "execution_count": 36,
   "metadata": {
    "colab": {
     "autoexec": {
      "startup": false,
      "wait_interval": 0
     },
     "base_uri": "https://localhost:8080/",
     "height": 34,
     "output_extras": [
      {
       "item_id": 1
      }
     ]
    },
    "colab_type": "code",
    "executionInfo": {
     "elapsed": 264,
     "status": "ok",
     "timestamp": 1521480334394,
     "user": {
      "displayName": "Ankur Kothari",
      "photoUrl": "//lh5.googleusercontent.com/-Lskyz0lrQRk/AAAAAAAAAAI/AAAAAAAACaI/etLcVFjKyHk/s50-c-k-no/photo.jpg",
      "userId": "111542912336803354359"
     },
     "user_tz": 240
    },
    "id": "UyD3V_w4tRD_",
    "outputId": "c55c7233-4083-425f-d30e-8682def94fc8"
   },
   "outputs": [],
   "source": [
    "def forward_propagation(X):\n",
    "  \n",
    "    # Convolutional Layer #1\n",
    "    dropout_rate = 0.3\n",
    "\n",
    "    training = tf.placeholder_with_default(False, shape=(), name='training')\n",
    "    X_drop = tf.layers.dropout(X, dropout_rate, training=training)\n",
    "    conv1 = tf.layers.conv2d(\n",
    "      inputs=X_drop,\n",
    "      filters=32,\n",
    "      kernel_size=[5, 5],\n",
    "      padding=\"valid\",\n",
    "      activation=tf.nn.relu)\n",
    "\n",
    "    conv2 = tf.layers.conv2d(conv1, filters=64, \n",
    "                       kernel_size=3,\n",
    "                       strides=2, padding=\"valid\",\n",
    "                       activation=tf.nn.relu, name=\"conv2\")\n",
    "    pool3 = tf.nn.max_pool(conv2,\n",
    "                     ksize=[1, 2, 2, 1],\n",
    "                     strides=[1, 2, 2, 1],\n",
    "                     padding=\"VALID\")\n",
    "    conv4 = tf.layers.conv2d(pool3, filters=128, \n",
    "                       kernel_size=4,\n",
    "                       strides=3, padding=\"SAME\",\n",
    "                       activation=tf.nn.relu, name=\"conv4\")\n",
    "\n",
    "    pool5 = tf.nn.max_pool(conv4,\n",
    "                     ksize=[1, 2, 2, 1],\n",
    "                     strides=[1, 1, 1, 1],\n",
    "                     padding=\"VALID\")\n",
    "\n",
    "    pool5_flat = tf.contrib.layers.flatten(pool5)\n",
    "\n",
    "    fullyconn1 = tf.layers.dense(pool5_flat, 128,\n",
    "                           activation=tf.nn.relu, name=\"fc1\")\n",
    "\n",
    "    fullyconn2 = tf.layers.dense(fullyconn1, 64,\n",
    "                           activation=tf.nn.relu, name=\"fc2\")\n",
    "    logits = tf.layers.dense(fullyconn2, 10, name=\"output\")\n",
    "    return logits, training"
   ]
  },
  {
   "cell_type": "code",
   "execution_count": 37,
   "metadata": {},
   "outputs": [
    {
     "name": "stdout",
     "output_type": "stream",
     "text": [
      "hi\n"
     ]
    }
   ],
   "source": [
    "print(\"hi\")"
   ]
  },
  {
   "cell_type": "code",
   "execution_count": 66,
   "metadata": {
    "colab": {
     "autoexec": {
      "startup": false,
      "wait_interval": 0
     }
    },
    "colab_type": "code",
    "id": "3mYUwYg3j1Q5"
   },
   "outputs": [
    {
     "name": "stdout",
     "output_type": "stream",
     "text": [
      "0 Train accuracy: 0.59375 Test accuracy: 0.5295\n",
      "Train Accuracy: 58.9999973774 %\tTest Accuracy: 52.999997139 %\n"
     ]
    }
   ],
   "source": [
    "tf.reset_default_graph()\n",
    "\n",
    "n_epochs = 1\n",
    "batch_size = 128\n",
    "X, y = initialize_parameters()\n",
    "logits, training = forward_propagation(X)\n",
    "xentropy = tf.nn.sparse_softmax_cross_entropy_with_logits(logits=logits,\n",
    "                                                      labels=y)\n",
    "loss = tf.reduce_mean(xentropy)\n",
    "optimizer = tf.train.AdamOptimizer()\n",
    "training_op = optimizer.minimize(loss)\n",
    "correct = tf.nn.in_top_k(logits, y, 1)\n",
    "accuracy = tf.reduce_mean(tf.cast(correct, tf.float32))            \n",
    "\n",
    "init = tf.global_variables_initializer()\n",
    "with tf.Session() as sess:\n",
    "    train_writer = tf.summary.FileWriter( './logs/1/train ', sess.graph)\n",
    "    sess.run(init)\n",
    "    for epoch in range(n_epochs):\n",
    "#         batch_index = 0\n",
    "        # Add this in when we want to run the training on all batches in CIFAR-10\n",
    "        batch_index = 0\n",
    "\n",
    "        train_size = int(len(features))\n",
    "\n",
    "        for iteration in range(train_size // batch_size):\n",
    "            X_batch, y_batch = get_next_batch(features, \n",
    "                                                                        labels, \n",
    "                                                                        train_size, \n",
    "                                                                        batch_index,\n",
    "                                                                        batch_size)\n",
    "            batch_index += 1\n",
    "\n",
    "            sess.run(training_op, feed_dict={X: X_batch, y: y_batch, training: True})\n",
    "            sess.run(training_op, feed_dict={X: X_batch, y: y_batch, training: True})\n",
    "        \n",
    "            \n",
    "            \n",
    "        acc_train = accuracy.eval(feed_dict={X: X_batch, y: y_batch})\n",
    "        acc_test = accuracy.eval(feed_dict={X: test_images, y: test_labels})\n",
    "        print(epoch, \"Train accuracy:\", acc_train, \"Test accuracy:\", acc_test)\n",
    "        print (\"Train Accuracy:\", round(acc_train, 2)*100,\"%\",  end=\"\\t\")\n",
    "        print (\"Test Accuracy:\", round(acc_test, 2)*100,\"%\", end=\"\\n\")\n",
    "    import os\n",
    "    if not os.path.exists(\"ADL\"):\n",
    "        os.makedirs(\"ADL\")\n",
    "    model_saver = tf.train.Saver()\n",
    "    save_path = model_saver.save(sess, \"ADL/cifar_model\")"
   ]
  },
  {
   "cell_type": "code",
   "execution_count": null,
   "metadata": {},
   "outputs": [],
   "source": []
  },
  {
   "cell_type": "code",
   "execution_count": 65,
   "metadata": {
    "colab": {
     "autoexec": {
      "startup": false,
      "wait_interval": 0
     },
     "base_uri": "https://localhost:8080/",
     "height": 609,
     "output_extras": [
      {}
     ]
    },
    "colab_type": "code",
    "executionInfo": {
     "elapsed": 339,
     "status": "error",
     "timestamp": 1521468770717,
     "user": {
      "displayName": "Ankur Kothari",
      "photoUrl": "//lh5.googleusercontent.com/-Lskyz0lrQRk/AAAAAAAAAAI/AAAAAAAACaI/etLcVFjKyHk/s50-c-k-no/photo.jpg",
      "userId": "111542912336803354359"
     },
     "user_tz": 240
    },
    "id": "Vac5JvfozZfT",
    "outputId": "c909fdd5-e289-4f41-efb9-b34f11950c03"
   },
   "outputs": [
    {
     "name": "stdout",
     "output_type": "stream",
     "text": [
      "INFO:tensorflow:Restoring parameters from ADL/cifar_model\n",
      "Model restored.\n",
      "0.6\n"
     ]
    }
   ],
   "source": [
    "import tensorflow as tf\n",
    "from tensorflow.python.tools import inspect_checkpoint as chkp\n",
    "\n",
    "#tf.reset_default_graph()\n",
    "with tf.Session() as sess:\n",
    "    # Restore variables from disk.\n",
    "    saver = tf.train.import_meta_graph('ADL/cifar_model.meta')\n",
    "    saver.restore(sess,\"ADL/cifar_model\")\n",
    "    print(\"Model restored.\")\n",
    "    predicition = sess.run(accuracy, feed_dict={X: features[0:10], y: labels[0:10]})\n",
    "    print(predicition)"
   ]
  },
  {
   "cell_type": "code",
   "execution_count": 119,
   "metadata": {
    "collapsed": true
   },
   "outputs": [],
   "source": []
  },
  {
   "cell_type": "code",
   "execution_count": 128,
   "metadata": {
    "colab": {
     "autoexec": {
      "startup": false,
      "wait_interval": 0
     },
     "base_uri": "https://localhost:8080/",
     "height": 130,
     "output_extras": [
      {}
     ]
    },
    "colab_type": "code",
    "executionInfo": {
     "elapsed": 385,
     "status": "error",
     "timestamp": 1521405012407,
     "user": {
      "displayName": "Ankur Kothari",
      "photoUrl": "//lh5.googleusercontent.com/-Lskyz0lrQRk/AAAAAAAAAAI/AAAAAAAACaI/etLcVFjKyHk/s50-c-k-no/photo.jpg",
      "userId": "111542912336803354359"
     },
     "user_tz": 240
    },
    "id": "KNy7f_W0j1Q-",
    "outputId": "28ad1a2d-cb10-43ee-edc8-da721ac3f6c2"
   },
   "outputs": [
    {
     "data": {
      "text/plain": [
       "<tf.Tensor 'output/BiasAdd:0' shape=(?, 10) dtype=float32>"
      ]
     },
     "execution_count": 128,
     "metadata": {},
     "output_type": "execute_result"
    }
   ],
   "source": [
    "logits"
   ]
  },
  {
   "cell_type": "code",
   "execution_count": 0,
   "metadata": {
    "colab": {
     "autoexec": {
      "startup": false,
      "wait_interval": 0
     }
    },
    "colab_type": "code",
    "collapsed": true,
    "id": "RaLykDVxj1RC"
   },
   "outputs": [],
   "source": []
  },
  {
   "cell_type": "code",
   "execution_count": 0,
   "metadata": {
    "colab": {
     "autoexec": {
      "startup": false,
      "wait_interval": 0
     }
    },
    "colab_type": "code",
    "collapsed": true,
    "id": "eUNmbk0Tj1RE"
   },
   "outputs": [],
   "source": []
  },
  {
   "cell_type": "code",
   "execution_count": 0,
   "metadata": {
    "colab": {
     "autoexec": {
      "startup": false,
      "wait_interval": 0
     }
    },
    "colab_type": "code",
    "collapsed": true,
    "id": "YgPJ0iTjj1RJ"
   },
   "outputs": [],
   "source": []
  }
 ],
 "metadata": {
  "accelerator": "GPU",
  "colab": {
   "collapsed_sections": [],
   "default_view": {},
   "name": "CNN_ImageClassification_CIFAR.ipynb",
   "provenance": [],
   "version": "0.3.2",
   "views": {}
  },
  "kernelspec": {
   "display_name": "Python 3",
   "language": "python",
   "name": "python3"
  },
  "language_info": {
   "codemirror_mode": {
    "name": "ipython",
    "version": 3
   },
   "file_extension": ".py",
   "mimetype": "text/x-python",
   "name": "python",
   "nbconvert_exporter": "python",
   "pygments_lexer": "ipython3",
   "version": "3.5.2"
  }
 },
 "nbformat": 4,
 "nbformat_minor": 1
}
