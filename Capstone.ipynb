{
 "cells": [
  {
   "cell_type": "code",
   "execution_count": 116,
   "metadata": {
    "colab": {
     "autoexec": {
      "startup": false,
      "wait_interval": 0
     }
    },
    "colab_type": "code",
    "id": "xFdJVcTItai6"
   },
   "outputs": [],
   "source": [
    "\n",
    "import nltk"
   ]
  },
  {
   "cell_type": "code",
   "execution_count": null,
   "metadata": {
    "colab": {
     "autoexec": {
      "startup": false,
      "wait_interval": 0
     },
     "base_uri": "https://localhost:8080/",
     "height": 280,
     "output_extras": [
      {
       "item_id": 1
      }
     ]
    },
    "colab_type": "code",
    "executionInfo": {
     "elapsed": 926,
     "status": "ok",
     "timestamp": 1521585403349,
     "user": {
      "displayName": "Adityi Jain",
      "photoUrl": "//lh4.googleusercontent.com/-Oendzrm2UYs/AAAAAAAAAAI/AAAAAAAABVI/KLJBHKIpiMo/s50-c-k-no/photo.jpg",
      "userId": "113461199095791330828"
     },
     "user_tz": 240
    },
    "id": "vTEIM1bst5iB",
    "outputId": "bf68e14f-b11f-4d43-8125-0518670eb8c9"
   },
   "outputs": [],
   "source": []
  },
  {
   "cell_type": "code",
   "execution_count": null,
   "metadata": {
    "colab": {
     "autoexec": {
      "startup": false,
      "wait_interval": 0
     },
     "base_uri": "https://localhost:8080/",
     "height": 34,
     "output_extras": [
      {
       "item_id": 1
      }
     ]
    },
    "colab_type": "code",
    "executionInfo": {
     "elapsed": 301,
     "status": "ok",
     "timestamp": 1521585403742,
     "user": {
      "displayName": "Adityi Jain",
      "photoUrl": "//lh4.googleusercontent.com/-Oendzrm2UYs/AAAAAAAAAAI/AAAAAAAABVI/KLJBHKIpiMo/s50-c-k-no/photo.jpg",
      "userId": "113461199095791330828"
     },
     "user_tz": 240
    },
    "id": "kp3_KCey2RBz",
    "outputId": "9c41b52d-4703-4b56-f83d-19838e5c867d"
   },
   "outputs": [],
   "source": []
  },
  {
   "cell_type": "code",
   "execution_count": null,
   "metadata": {
    "colab": {
     "autoexec": {
      "startup": false,
      "wait_interval": 0
     }
    },
    "colab_type": "code",
    "id": "QtZJglFFt8rJ"
   },
   "outputs": [],
   "source": []
  },
  {
   "cell_type": "code",
   "execution_count": null,
   "metadata": {
    "colab": {
     "autoexec": {
      "startup": false,
      "wait_interval": 0
     }
    },
    "colab_type": "code",
    "id": "IFZZv6e7t_7v"
   },
   "outputs": [],
   "source": [
    "# Step 0: Receiving and reading the file.\n",
    "import pandas as pd\n",
    "reviews = pd.read_csv('yelp_review.csv')"
   ]
  },
  {
   "cell_type": "code",
   "execution_count": null,
   "metadata": {
    "colab": {
     "autoexec": {
      "startup": false,
      "wait_interval": 0
     },
     "base_uri": "https://localhost:8080/",
     "height": 34,
     "output_extras": [
      {
       "item_id": 1
      }
     ]
    },
    "colab_type": "code",
    "executionInfo": {
     "elapsed": 344,
     "status": "ok",
     "timestamp": 1521585501112,
     "user": {
      "displayName": "Adityi Jain",
      "photoUrl": "//lh4.googleusercontent.com/-Oendzrm2UYs/AAAAAAAAAAI/AAAAAAAABVI/KLJBHKIpiMo/s50-c-k-no/photo.jpg",
      "userId": "113461199095791330828"
     },
     "user_tz": 240
    },
    "id": "r2J3dkV02bw_",
    "outputId": "be0d5b21-e48e-4c75-c87f-2cb949b51072"
   },
   "outputs": [],
   "source": [
    "xyz = reviews[:200000]\n",
    "xyz.head()\n",
    "xyz.shape\n"
   ]
  },
  {
   "cell_type": "code",
   "execution_count": null,
   "metadata": {
    "colab": {
     "autoexec": {
      "startup": false,
      "wait_interval": 0
     },
     "base_uri": "https://localhost:8080/",
     "height": 199,
     "output_extras": [
      {
       "item_id": 1
      }
     ]
    },
    "colab_type": "code",
    "executionInfo": {
     "elapsed": 278,
     "status": "ok",
     "timestamp": 1521585501457,
     "user": {
      "displayName": "Adityi Jain",
      "photoUrl": "//lh4.googleusercontent.com/-Oendzrm2UYs/AAAAAAAAAAI/AAAAAAAABVI/KLJBHKIpiMo/s50-c-k-no/photo.jpg",
      "userId": "113461199095791330828"
     },
     "user_tz": 240
    },
    "id": "1NBGWeef3zkM",
    "outputId": "bec7bf6e-b511-4a1d-ef0d-b2b8c1787370"
   },
   "outputs": [],
   "source": [
    "# taking relevant columns from the reviews\n",
    "review = xyz[['text', 'stars']]\n",
    "review.head()"
   ]
  },
  {
   "cell_type": "code",
   "execution_count": null,
   "metadata": {
    "colab": {
     "autoexec": {
      "startup": false,
      "wait_interval": 0
     },
     "base_uri": "https://localhost:8080/",
     "height": 122,
     "output_extras": [
      {
       "item_id": 1
      }
     ]
    },
    "colab_type": "code",
    "executionInfo": {
     "elapsed": 273,
     "status": "ok",
     "timestamp": 1521585501782,
     "user": {
      "displayName": "Adityi Jain",
      "photoUrl": "//lh4.googleusercontent.com/-Oendzrm2UYs/AAAAAAAAAAI/AAAAAAAABVI/KLJBHKIpiMo/s50-c-k-no/photo.jpg",
      "userId": "113461199095791330828"
     },
     "user_tz": 240
    },
    "id": "K4OA9_sRB0ae",
    "outputId": "1751c218-88d4-43f5-c7f8-bc305c0688bd"
   },
   "outputs": [],
   "source": [
    "# will help to check how many reviews are there per rating\n",
    "review.stars.value_counts()"
   ]
  },
  {
   "cell_type": "code",
   "execution_count": null,
   "metadata": {
    "colab": {
     "autoexec": {
      "startup": false,
      "wait_interval": 0
     },
     "base_uri": "https://localhost:8080/",
     "height": 34,
     "output_extras": [
      {
       "item_id": 1
      }
     ]
    },
    "colab_type": "code",
    "executionInfo": {
     "elapsed": 272,
     "status": "ok",
     "timestamp": 1521585502172,
     "user": {
      "displayName": "Adityi Jain",
      "photoUrl": "//lh4.googleusercontent.com/-Oendzrm2UYs/AAAAAAAAAAI/AAAAAAAABVI/KLJBHKIpiMo/s50-c-k-no/photo.jpg",
      "userId": "113461199095791330828"
     },
     "user_tz": 240
    },
    "id": "T_6A5PbtCGNJ",
    "outputId": "705ccf1f-5e6b-4ca2-f18f-a94a8e71fb19"
   },
   "outputs": [],
   "source": [
    "X = review[\"text\"]\n",
    "y = review.stars\n",
    "X.shape\n",
    "y.shape"
   ]
  },
  {
   "cell_type": "code",
   "execution_count": 67,
   "metadata": {
    "colab": {
     "autoexec": {
      "startup": false,
      "wait_interval": 0
     }
    },
    "colab_type": "code",
    "id": "10Mdh5z9COqT"
   },
   "outputs": [],
   "source": [
    "#STEP 1/2: PREPROCESSING AND FEATURES EXTRACTION.\n",
    "#STEMMING OF DOC USING NLTK\n",
    "from sklearn.feature_extraction.text import TfidfVectorizer\n",
    "import nltk.stem\n",
    "\n",
    "english_stemmer = nltk.stem.SnowballStemmer('english')\n",
    "class StemmedTfidfVectorizer(TfidfVectorizer):\n",
    "    def build_analyzer(self):\n",
    "        analyzer = super(StemmedTfidfVectorizer, self).build_analyzer()\n",
    "        return lambda doc: ([english_stemmer.stem(w) for w in analyzer(doc)])\n"
   ]
  },
  {
   "cell_type": "code",
   "execution_count": 68,
   "metadata": {
    "colab": {
     "autoexec": {
      "startup": false,
      "wait_interval": 0
     }
    },
    "colab_type": "code",
    "id": "2XHKry-pR_NF"
   },
   "outputs": [],
   "source": [
    "\n",
    "# WILL USE TF-IDF VECTORIZER, WHICH IS COMBINATION OF COUNT VECTORIZER AND TF IDF TRANSFORMER\n",
    "# preprocessing and feature extraction\n",
    "from sklearn.model_selection import train_test_split\n",
    "\n",
    "X_train, X_test, y_train, y_test = train_test_split(X, y, test_size=0.25, random_state=5)\n",
    "\n",
    "#UNIGRAM\n",
    "vectorizer_1 = StemmedTfidfVectorizer(stop_words='english')"
   ]
  },
  {
   "cell_type": "code",
   "execution_count": 69,
   "metadata": {
    "colab": {
     "autoexec": {
      "startup": false,
      "wait_interval": 0
     }
    },
    "colab_type": "code",
    "id": "MKRBoOVvsfBu"
   },
   "outputs": [],
   "source": [
    "X_train_dtm = vectorizer_1.fit_transform(X_train)\n",
    "#dtm is data term matrix\n",
    "#do fitting and transfrom in single step\n"
   ]
  },
  {
   "cell_type": "code",
   "execution_count": 70,
   "metadata": {
    "colab": {
     "autoexec": {
      "startup": false,
      "wait_interval": 0
     },
     "base_uri": "https://localhost:8080/",
     "height": 34,
     "output_extras": [
      {
       "item_id": 1
      }
     ]
    },
    "colab_type": "code",
    "executionInfo": {
     "elapsed": 365,
     "status": "ok",
     "timestamp": 1521585646352,
     "user": {
      "displayName": "Adityi Jain",
      "photoUrl": "//lh4.googleusercontent.com/-Oendzrm2UYs/AAAAAAAAAAI/AAAAAAAABVI/KLJBHKIpiMo/s50-c-k-no/photo.jpg",
      "userId": "113461199095791330828"
     },
     "user_tz": 240
    },
    "id": "_7hc_JekEN7-",
    "outputId": "4180eb61-9612-46ad-f790-b07373bdb578"
   },
   "outputs": [
    {
     "name": "stdout",
     "output_type": "stream",
     "text": [
      "81363\n"
     ]
    }
   ],
   "source": [
    "tokens = vectorizer_1.get_feature_names()\n",
    "print(len(tokens))\n",
    "# number of features in unigram"
   ]
  },
  {
   "cell_type": "code",
   "execution_count": 71,
   "metadata": {
    "colab": {
     "autoexec": {
      "startup": false,
      "wait_interval": 0
     }
    },
    "colab_type": "code",
    "id": "dw0Wy9wHxT87"
   },
   "outputs": [],
   "source": [
    "X_test_dtm = vectorizer_1.transform(X_test)"
   ]
  },
  {
   "cell_type": "code",
   "execution_count": 72,
   "metadata": {
    "colab": {
     "autoexec": {
      "startup": false,
      "wait_interval": 0
     }
    },
    "colab_type": "code",
    "id": "la-Vf44u6k4A"
   },
   "outputs": [],
   "source": [
    "# REPEATING WITH BIGRAM METHOD\n",
    "vectorizer_2 =  StemmedTfidfVectorizer(stop_words=\"english\", ngram_range=(1,2))\n",
    "X_train_dtm_2 = vectorizer_2.fit_transform(X_train)\n"
   ]
  },
  {
   "cell_type": "code",
   "execution_count": 73,
   "metadata": {
    "colab": {
     "autoexec": {
      "startup": false,
      "wait_interval": 0
     },
     "base_uri": "https://localhost:8080/",
     "height": 34,
     "output_extras": [
      {
       "item_id": 1
      }
     ]
    },
    "colab_type": "code",
    "executionInfo": {
     "elapsed": 5596,
     "status": "ok",
     "timestamp": 1521586013155,
     "user": {
      "displayName": "Adityi Jain",
      "photoUrl": "//lh4.googleusercontent.com/-Oendzrm2UYs/AAAAAAAAAAI/AAAAAAAABVI/KLJBHKIpiMo/s50-c-k-no/photo.jpg",
      "userId": "113461199095791330828"
     },
     "user_tz": 240
    },
    "id": "Q9m4K9Oy-RSh",
    "outputId": "c4665fc0-3bbf-4285-a008-21da9b21cf36"
   },
   "outputs": [
    {
     "name": "stdout",
     "output_type": "stream",
     "text": [
      "2849324\n"
     ]
    }
   ],
   "source": [
    "tokens_2 = vectorizer_2.get_feature_names()\n",
    "print(len(tokens_2))\n",
    "#number of features in bigram"
   ]
  },
  {
   "cell_type": "code",
   "execution_count": 74,
   "metadata": {
    "colab": {
     "autoexec": {
      "startup": false,
      "wait_interval": 0
     }
    },
    "colab_type": "code",
    "id": "ZWkxvMM5-RPB"
   },
   "outputs": [],
   "source": [
    "X_test_dtm_2 = vectorizer_2.transform(X_test)"
   ]
  },
  {
   "cell_type": "code",
   "execution_count": 75,
   "metadata": {
    "colab": {
     "autoexec": {
      "startup": false,
      "wait_interval": 0
     },
     "base_uri": "https://localhost:8080/",
     "height": 54,
     "output_extras": [
      {
       "item_id": 1
      }
     ]
    },
    "colab_type": "code",
    "executionInfo": {
     "elapsed": 276,
     "status": "ok",
     "timestamp": 1521586111819,
     "user": {
      "displayName": "Adityi Jain",
      "photoUrl": "//lh4.googleusercontent.com/-Oendzrm2UYs/AAAAAAAAAAI/AAAAAAAABVI/KLJBHKIpiMo/s50-c-k-no/photo.jpg",
      "userId": "113461199095791330828"
     },
     "user_tz": 240
    },
    "id": "cSDqMbIh-RMd",
    "outputId": "09fd62f8-1d95-4682-c819-b009ebf6e155"
   },
   "outputs": [
    {
     "name": "stdout",
     "output_type": "stream",
     "text": [
      "['bag 25', 'bag 30', 'bag 3rd', 'bag 48hr', 'bag 50', 'bag 60', 'bag 600', 'bag 75', 'bag 99', 'bag abercrombi', 'bag absurd', 'bag accessori', 'bag accus', 'bag actu', 'bag ad', 'bag adjust', 'bag adv', 'bag afterward', 'bag ag', 'bag aliant', 'bag alleg', 'bag allegi', 'bag almond', 'bag amaz', 'bag amen', 'bag anxi', 'bag apolog', 'bag appear', 'bag appet', 'bag appl', 'bag approach', 'bag area', 'bag arriv', 'bag ask', 'bag ass', 'bag assassin', 'bag assort', 'bag athletet', 'bag attach', 'bag attempt', 'bag authent', 'bag avail', 'bag avocado', 'bag aw', 'bag away', 'bag awesom', 'bag babi', 'bag bad', 'bag bag', 'bag bagel', 'bag bak', 'bag balaclava', 'bag bar', 'bag barbequ', 'bag bargain', 'bag bas', 'bag bean', 'bag beef', 'bag beer']\n"
     ]
    }
   ],
   "source": [
    "print(tokens_2[200000:200059])"
   ]
  },
  {
   "cell_type": "code",
   "execution_count": 76,
   "metadata": {
    "colab": {
     "autoexec": {
      "startup": false,
      "wait_interval": 0
     },
     "base_uri": "https://localhost:8080/",
     "height": 34,
     "output_extras": [
      {
       "item_id": 1
      }
     ]
    },
    "colab_type": "code",
    "executionInfo": {
     "elapsed": 279,
     "status": "ok",
     "timestamp": 1521586112180,
     "user": {
      "displayName": "Adityi Jain",
      "photoUrl": "//lh4.googleusercontent.com/-Oendzrm2UYs/AAAAAAAAAAI/AAAAAAAABVI/KLJBHKIpiMo/s50-c-k-no/photo.jpg",
      "userId": "113461199095791330828"
     },
     "user_tz": 240
    },
    "id": "5kOemMzXKlYf",
    "outputId": "7ddff03b-f01e-424d-e4da-fc399302cf4a"
   },
   "outputs": [
    {
     "data": {
      "text/plain": [
       "MultinomialNB(alpha=1.0, class_prior=None, fit_prior=True)"
      ]
     },
     "execution_count": 76,
     "metadata": {},
     "output_type": "execute_result"
    }
   ],
   "source": [
    "#STEP 3: SUPERVISED LEARNING/ EVALUATION\n",
    "# MULTINOMIAL NAIVE BAYES\n",
    "from sklearn.naive_bayes import MultinomialNB\n",
    "nb1 = MultinomialNB()\n",
    "\n",
    "nb1.fit(X_train_dtm, y_train)\n",
    "\n"
   ]
  },
  {
   "cell_type": "code",
   "execution_count": 77,
   "metadata": {
    "colab": {
     "autoexec": {
      "startup": false,
      "wait_interval": 0
     },
     "base_uri": "https://localhost:8080/",
     "height": 34,
     "output_extras": [
      {
       "item_id": 1
      }
     ]
    },
    "colab_type": "code",
    "executionInfo": {
     "elapsed": 1336,
     "status": "ok",
     "timestamp": 1521586113574,
     "user": {
      "displayName": "Adityi Jain",
      "photoUrl": "//lh4.googleusercontent.com/-Oendzrm2UYs/AAAAAAAAAAI/AAAAAAAABVI/KLJBHKIpiMo/s50-c-k-no/photo.jpg",
      "userId": "113461199095791330828"
     },
     "user_tz": 240
    },
    "id": "Smt9djvm6ZQo",
    "outputId": "a0e882f5-dce7-469a-aa58-0ac26ccabf86"
   },
   "outputs": [
    {
     "data": {
      "text/plain": [
       "MultinomialNB(alpha=1.0, class_prior=None, fit_prior=True)"
      ]
     },
     "execution_count": 77,
     "metadata": {},
     "output_type": "execute_result"
    }
   ],
   "source": [
    "nb2 = MultinomialNB()\n",
    "nb2.fit(X_train_dtm_2, y_train)"
   ]
  },
  {
   "cell_type": "code",
   "execution_count": 78,
   "metadata": {
    "colab": {
     "autoexec": {
      "startup": false,
      "wait_interval": 0
     }
    },
    "colab_type": "code",
    "id": "r30cuVwI5eq_"
   },
   "outputs": [],
   "source": [
    "y_pred_nb1 = nb1.predict(X_test_dtm)\n"
   ]
  },
  {
   "cell_type": "code",
   "execution_count": 79,
   "metadata": {
    "colab": {
     "autoexec": {
      "startup": false,
      "wait_interval": 0
     }
    },
    "colab_type": "code",
    "id": "FQ-eFAtL6bVR"
   },
   "outputs": [],
   "source": [
    "y_pred_nb2 = nb2.predict(X_test_dtm_2)"
   ]
  },
  {
   "cell_type": "code",
   "execution_count": 80,
   "metadata": {
    "colab": {
     "autoexec": {
      "startup": false,
      "wait_interval": 0
     },
     "base_uri": "https://localhost:8080/",
     "height": 34,
     "output_extras": [
      {
       "item_id": 1
      }
     ]
    },
    "colab_type": "code",
    "executionInfo": {
     "elapsed": 272,
     "status": "ok",
     "timestamp": 1521586114746,
     "user": {
      "displayName": "Adityi Jain",
      "photoUrl": "//lh4.googleusercontent.com/-Oendzrm2UYs/AAAAAAAAAAI/AAAAAAAABVI/KLJBHKIpiMo/s50-c-k-no/photo.jpg",
      "userId": "113461199095791330828"
     },
     "user_tz": 240
    },
    "id": "H92NOZiq5q-M",
    "outputId": "a52da2a0-1349-4169-f4f5-876f3bd9cd0a"
   },
   "outputs": [
    {
     "data": {
      "text/plain": [
       "0.43847600823977745"
      ]
     },
     "execution_count": 80,
     "metadata": {},
     "output_type": "execute_result"
    }
   ],
   "source": [
    "from sklearn.metrics import f1_score\n",
    "#F1 score for unigram NB\n",
    "f1_score(y_test, y_pred_nb1, average= 'weighted')\n"
   ]
  },
  {
   "cell_type": "code",
   "execution_count": 81,
   "metadata": {
    "colab": {
     "autoexec": {
      "startup": false,
      "wait_interval": 0
     },
     "base_uri": "https://localhost:8080/",
     "height": 34,
     "output_extras": [
      {
       "item_id": 1
      }
     ]
    },
    "colab_type": "code",
    "executionInfo": {
     "elapsed": 320,
     "status": "ok",
     "timestamp": 1521586115136,
     "user": {
      "displayName": "Adityi Jain",
      "photoUrl": "//lh4.googleusercontent.com/-Oendzrm2UYs/AAAAAAAAAAI/AAAAAAAABVI/KLJBHKIpiMo/s50-c-k-no/photo.jpg",
      "userId": "113461199095791330828"
     },
     "user_tz": 240
    },
    "id": "GKjufNZa5ydV",
    "outputId": "bba8aa62-19a8-47a8-d6c2-b1b4a8569c91"
   },
   "outputs": [
    {
     "data": {
      "text/plain": [
       "0.28645948412433225"
      ]
     },
     "execution_count": 81,
     "metadata": {},
     "output_type": "execute_result"
    }
   ],
   "source": [
    "# F1 score for bigram NB\n",
    "# to ignore warning due to classes with no predictions made\n",
    "import warnings\n",
    "warnings.filterwarnings('ignore')\n",
    "f1_score(y_test, y_pred_nb2, average= 'weighted')\n"
   ]
  },
  {
   "cell_type": "code",
   "execution_count": 82,
   "metadata": {
    "colab": {
     "autoexec": {
      "startup": false,
      "wait_interval": 0
     },
     "base_uri": "https://localhost:8080/",
     "height": 87,
     "output_extras": [
      {
       "item_id": 1
      }
     ]
    },
    "colab_type": "code",
    "executionInfo": {
     "elapsed": 32885,
     "status": "ok",
     "timestamp": 1521586148156,
     "user": {
      "displayName": "Adityi Jain",
      "photoUrl": "//lh4.googleusercontent.com/-Oendzrm2UYs/AAAAAAAAAAI/AAAAAAAABVI/KLJBHKIpiMo/s50-c-k-no/photo.jpg",
      "userId": "113461199095791330828"
     },
     "user_tz": 240
    },
    "id": "LCLGYEd051G0",
    "outputId": "069e1030-fd33-4bc5-bfbd-a1cfa39ee679"
   },
   "outputs": [
    {
     "data": {
      "text/plain": [
       "LogisticRegression(C=1.0, class_weight='balanced', dual=False,\n",
       "          fit_intercept=True, intercept_scaling=1, max_iter=100,\n",
       "          multi_class='ovr', n_jobs=1, penalty='l2', random_state=None,\n",
       "          solver='liblinear', tol=0.0001, verbose=0, warm_start=False)"
      ]
     },
     "execution_count": 82,
     "metadata": {},
     "output_type": "execute_result"
    }
   ],
   "source": [
    "# LOGISTIC REGRESSION\n",
    "from sklearn.linear_model import LogisticRegression\n",
    "lr1 = LogisticRegression(class_weight='balanced')\n",
    "lr1.fit(X_train_dtm, y_train)\n"
   ]
  },
  {
   "cell_type": "code",
   "execution_count": 83,
   "metadata": {
    "colab": {
     "autoexec": {
      "startup": false,
      "wait_interval": 0
     }
    },
    "colab_type": "code",
    "id": "YhbNJZuEA0AN"
   },
   "outputs": [],
   "source": [
    "y_pred_lr1 = lr1.predict(X_test_dtm)"
   ]
  },
  {
   "cell_type": "code",
   "execution_count": 84,
   "metadata": {
    "colab": {
     "autoexec": {
      "startup": false,
      "wait_interval": 0
     },
     "base_uri": "https://localhost:8080/",
     "height": 87,
     "output_extras": [
      {
       "item_id": 1
      }
     ]
    },
    "colab_type": "code",
    "executionInfo": {
     "elapsed": 79811,
     "status": "ok",
     "timestamp": 1521586228506,
     "user": {
      "displayName": "Adityi Jain",
      "photoUrl": "//lh4.googleusercontent.com/-Oendzrm2UYs/AAAAAAAAAAI/AAAAAAAABVI/KLJBHKIpiMo/s50-c-k-no/photo.jpg",
      "userId": "113461199095791330828"
     },
     "user_tz": 240
    },
    "id": "uP0fhuPR1gNw",
    "outputId": "c9d442db-6f9c-453b-93f7-747d61a41eb4"
   },
   "outputs": [
    {
     "data": {
      "text/plain": [
       "LogisticRegression(C=1.0, class_weight='balanced', dual=False,\n",
       "          fit_intercept=True, intercept_scaling=1, max_iter=100,\n",
       "          multi_class='ovr', n_jobs=1, penalty='l2', random_state=None,\n",
       "          solver='liblinear', tol=0.0001, verbose=0, warm_start=False)"
      ]
     },
     "execution_count": 84,
     "metadata": {},
     "output_type": "execute_result"
    }
   ],
   "source": [
    "lr2 = LogisticRegression(class_weight='balanced')\n",
    "lr2.fit(X_train_dtm_2, y_train)"
   ]
  },
  {
   "cell_type": "code",
   "execution_count": 85,
   "metadata": {
    "colab": {
     "autoexec": {
      "startup": false,
      "wait_interval": 0
     }
    },
    "colab_type": "code",
    "id": "-sxXbA_R1lh5"
   },
   "outputs": [],
   "source": [
    "y_pred_lr2 = lr2.predict(X_test_dtm_2)"
   ]
  },
  {
   "cell_type": "code",
   "execution_count": 86,
   "metadata": {
    "colab": {
     "autoexec": {
      "startup": false,
      "wait_interval": 0
     },
     "base_uri": "https://localhost:8080/",
     "height": 34,
     "output_extras": [
      {
       "item_id": 1
      }
     ]
    },
    "colab_type": "code",
    "executionInfo": {
     "elapsed": 310,
     "status": "ok",
     "timestamp": 1521586229247,
     "user": {
      "displayName": "Adityi Jain",
      "photoUrl": "//lh4.googleusercontent.com/-Oendzrm2UYs/AAAAAAAAAAI/AAAAAAAABVI/KLJBHKIpiMo/s50-c-k-no/photo.jpg",
      "userId": "113461199095791330828"
     },
     "user_tz": 240
    },
    "id": "e9eZQqau2P6M",
    "outputId": "9ad56031-0a34-4879-e7d2-096325424dfa"
   },
   "outputs": [
    {
     "data": {
      "text/plain": [
       "0.63806374281639222"
      ]
     },
     "execution_count": 86,
     "metadata": {},
     "output_type": "execute_result"
    }
   ],
   "source": [
    "# F1 score for unigram LR\n",
    "f1_score(y_test, y_pred_lr1, average= 'weighted')"
   ]
  },
  {
   "cell_type": "code",
   "execution_count": 87,
   "metadata": {
    "colab": {
     "autoexec": {
      "startup": false,
      "wait_interval": 0
     },
     "base_uri": "https://localhost:8080/",
     "height": 34,
     "output_extras": [
      {
       "item_id": 1
      }
     ]
    },
    "colab_type": "code",
    "executionInfo": {
     "elapsed": 410,
     "status": "ok",
     "timestamp": 1521586229737,
     "user": {
      "displayName": "Adityi Jain",
      "photoUrl": "//lh4.googleusercontent.com/-Oendzrm2UYs/AAAAAAAAAAI/AAAAAAAABVI/KLJBHKIpiMo/s50-c-k-no/photo.jpg",
      "userId": "113461199095791330828"
     },
     "user_tz": 240
    },
    "id": "9hQdau202aTH",
    "outputId": "327350b2-42be-49d1-ba56-f5d1cedc1b56"
   },
   "outputs": [
    {
     "data": {
      "text/plain": [
       "0.64862254289943477"
      ]
     },
     "execution_count": 87,
     "metadata": {},
     "output_type": "execute_result"
    }
   ],
   "source": [
    "# F1 score for bigram LR\n",
    "f1_score(y_test, y_pred_lr2, average= 'weighted')"
   ]
  },
  {
   "cell_type": "code",
   "execution_count": null,
   "metadata": {
    "colab": {
     "autoexec": {
      "startup": false,
      "wait_interval": 0
     }
    },
    "colab_type": "code",
    "id": "gs1CTRGA2eRF"
   },
   "outputs": [],
   "source": [
    "# DECISION TREE CLASSIFICATION\n",
    "from sklearn.grid_search import GridSearchCV\n",
    "from sklearn.metrics import make_scorer\n",
    "from sklearn.ensemble import RandomForestClassifier\n",
    "param_grid = {'max_depth': [ 20, 30, 35,40],\"min_samples_leaf\": [5,10,15], \"min_samples_split\": [5,10,15] }\n",
    "clf = RandomForestClassifier(class_weight=\"balanced\")\n",
    "\n",
    "grid_obj1 = GridSearchCV(clf, param_grid, scoring=\"f1_weighted\")"
   ]
  },
  {
   "cell_type": "code",
   "execution_count": null,
   "metadata": {
    "colab": {
     "autoexec": {
      "startup": false,
      "wait_interval": 0
     }
    },
    "colab_type": "code",
    "id": "gztQK95IVSwb"
   },
   "outputs": [],
   "source": [
    "grid_fit1 = grid_obj1.fit(X_train_dtm, y_train)"
   ]
  },
  {
   "cell_type": "code",
   "execution_count": null,
   "metadata": {
    "colab": {
     "autoexec": {
      "startup": false,
      "wait_interval": 0
     }
    },
    "colab_type": "code",
    "id": "hLiSs7HnUCo9"
   },
   "outputs": [],
   "source": [
    "grid_best_1 = grid_fit1.best_params_"
   ]
  },
  {
   "cell_type": "code",
   "execution_count": null,
   "metadata": {
    "colab": {
     "autoexec": {
      "startup": false,
      "wait_interval": 0
     }
    },
    "colab_type": "code",
    "id": "Kh2Y0ryEUZwd"
   },
   "outputs": [],
   "source": [
    "grid_best_1\n",
    "# for unigram, following are the best parameters"
   ]
  },
  {
   "cell_type": "code",
   "execution_count": null,
   "metadata": {},
   "outputs": [],
   "source": [
    "grid_obj2 = GridSearchCV(clf, param_grid, scoring=\"f1_weighted\")"
   ]
  },
  {
   "cell_type": "code",
   "execution_count": null,
   "metadata": {},
   "outputs": [],
   "source": [
    "grid_fit2 = grid_obj2.fit(X_train_dtm_2, y_train)"
   ]
  },
  {
   "cell_type": "code",
   "execution_count": null,
   "metadata": {},
   "outputs": [],
   "source": [
    "grid_best_2 = grid_fit2.best_params_"
   ]
  },
  {
   "cell_type": "code",
   "execution_count": null,
   "metadata": {},
   "outputs": [],
   "source": []
  }
 ],
 "metadata": {
  "accelerator": "GPU",
  "colab": {
   "collapsed_sections": [],
   "default_view": {},
   "name": "Capstone.ipynb",
   "provenance": [],
   "version": "0.3.2",
   "views": {}
  },
  "kernelspec": {
   "display_name": "Python 3",
   "language": "python",
   "name": "python3"
  },
  "language_info": {
   "codemirror_mode": {
    "name": "ipython",
    "version": 3
   },
   "file_extension": ".py",
   "mimetype": "text/x-python",
   "name": "python",
   "nbconvert_exporter": "python",
   "pygments_lexer": "ipython3",
   "version": "3.5.2"
  }
 },
 "nbformat": 4,
 "nbformat_minor": 1
}
