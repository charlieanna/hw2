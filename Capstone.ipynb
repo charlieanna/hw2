{
  "nbformat": 4,
  "nbformat_minor": 0,
  "metadata": {
    "colab": {
      "name": "Capstone.ipynb",
      "version": "0.3.2",
      "views": {},
      "default_view": {},
      "provenance": [],
      "collapsed_sections": []
    },
    "kernelspec": {
      "name": "python3",
      "display_name": "Python 3"
    },
    "accelerator": "GPU"
  },
  "cells": [
    {
      "metadata": {
        "id": "xFdJVcTItai6",
        "colab_type": "code",
        "colab": {
          "autoexec": {
            "startup": false,
            "wait_interval": 0
          }
        }
      },
      "cell_type": "code",
      "source": [
        "!pip install -U -q PyDrive\n",
        "\n",
        "from pydrive.auth import GoogleAuth\n",
        "from pydrive.drive import GoogleDrive\n",
        "from google.colab import auth\n",
        "from oauth2client.client import GoogleCredentials\n",
        "\n",
        "# 1. Authenticate and create the PyDrive client.\n",
        "auth.authenticate_user()\n",
        "\n",
        "gauth = GoogleAuth()\n",
        "gauth.credentials = GoogleCredentials.get_application_default()\n",
        "drive = GoogleDrive(gauth)\n"
      ],
      "execution_count": 0,
      "outputs": []
    },
    {
      "metadata": {
        "id": "vTEIM1bst5iB",
        "colab_type": "code",
        "colab": {
          "autoexec": {
            "startup": false,
            "wait_interval": 0
          },
          "output_extras": [
            {
              "item_id": 1
            }
          ],
          "base_uri": "https://localhost:8080/",
          "height": 280
        },
        "outputId": "bf68e14f-b11f-4d43-8125-0518670eb8c9",
        "executionInfo": {
          "status": "ok",
          "timestamp": 1521585403349,
          "user_tz": 240,
          "elapsed": 926,
          "user": {
            "displayName": "Adityi Jain",
            "photoUrl": "//lh4.googleusercontent.com/-Oendzrm2UYs/AAAAAAAAAAI/AAAAAAAABVI/KLJBHKIpiMo/s50-c-k-no/photo.jpg",
            "userId": "113461199095791330828"
          }
        }
      },
      "cell_type": "code",
      "source": [
        "file_list = drive.ListFile({'q': \"'root' in parents and trashed=false\"}).GetList()\n",
        "for file1 in file_list:\n",
        "  print('title: %s, id: %s' % (file1['title'], file1['id']))\n"
      ],
      "execution_count": 2,
      "outputs": [
        {
          "output_type": "stream",
          "text": [
            "title: yelp_review.csv, id: 1Pb-HyMgtDS7YLKy4fvHTmijQ8e5btxhf\n",
            "title: assignment2_final.ipynb, id: 1bUcuXQXc7yxQJp3syyV1SKQrXhkyh5Pd\n",
            "title: assignment2_final.ipynb, id: 1BzTVuxNs89te-CweYhAmmvAsoyJUVKyy\n",
            "title: assignment2.ipynb, id: 1GgWimMgPEgfs5yK0wPE9ldZTOaDQIx7T\n",
            "title: assignment2, id: 1GQ42YnoJY06wW6Boe6Md7hmX2mGcsCTv\n",
            "title: TwitterAPIadnauseam.ipynb, id: 17CEE7esgukbxdksSofGcn0xtZLiCQL9z\n",
            "title: Colab Notebooks, id: 1ifvtXVHfqG_RStAHTvCKFxq_EIVndFdI\n",
            "title: Untitled0.ipynb, id: 1eao2LiZo6_CjDu8Fc7NRN4uXuFEX-tQK\n",
            "title: Pics, id: 0B4Z5tSBhDSLqWnNGc2pCU3loakE\n",
            "title: DSC_3425.JPG, id: 0B4Z5tSBhDSLqcTA2MWpkMVR4Zjg\n",
            "title: mobile pics, id: 0B4Z5tSBhDSLqNmdYeWhUNGVmS3c\n",
            "title: DSC_1395.jpg, id: 0B4Z5tSBhDSLqUHZ2cHRzdXZ2NE0\n",
            "title: DSC_1393.jpg, id: 0B4Z5tSBhDSLqWnI3WXY2bTJiU3c\n",
            "title: DSC_1392.jpg, id: 0B4Z5tSBhDSLqbkVzOExfQThMS1E\n",
            "title: novofest, id: 0B4Z5tSBhDSLqflpZUy1XLWdNY3BsNlM3QkRyOHpMSHNGd0htb2NUb0gxTzhhVmJjZ29rN00\n"
          ],
          "name": "stdout"
        }
      ]
    },
    {
      "metadata": {
        "id": "kp3_KCey2RBz",
        "colab_type": "code",
        "colab": {
          "autoexec": {
            "startup": false,
            "wait_interval": 0
          },
          "output_extras": [
            {
              "item_id": 1
            }
          ],
          "base_uri": "https://localhost:8080/",
          "height": 34
        },
        "outputId": "9c41b52d-4703-4b56-f83d-19838e5c867d",
        "executionInfo": {
          "status": "ok",
          "timestamp": 1521585403742,
          "user_tz": 240,
          "elapsed": 301,
          "user": {
            "displayName": "Adityi Jain",
            "photoUrl": "//lh4.googleusercontent.com/-Oendzrm2UYs/AAAAAAAAAAI/AAAAAAAABVI/KLJBHKIpiMo/s50-c-k-no/photo.jpg",
            "userId": "113461199095791330828"
          }
        }
      },
      "cell_type": "code",
      "source": [
        "file2 = drive.CreateFile({'id': \"1Pb-HyMgtDS7YLKy4fvHTmijQ8e5btxhf\"})\n",
        "print('title: %s, mimeType: %s' % (file2['title'], file2['mimeType']))"
      ],
      "execution_count": 3,
      "outputs": [
        {
          "output_type": "stream",
          "text": [
            "title: yelp_review.csv, mimeType: text/csv\n"
          ],
          "name": "stdout"
        }
      ]
    },
    {
      "metadata": {
        "id": "QtZJglFFt8rJ",
        "colab_type": "code",
        "colab": {
          "autoexec": {
            "startup": false,
            "wait_interval": 0
          }
        }
      },
      "cell_type": "code",
      "source": [
        "file2.GetContentFile('yelp_review.csv') "
      ],
      "execution_count": 0,
      "outputs": []
    },
    {
      "metadata": {
        "id": "IFZZv6e7t_7v",
        "colab_type": "code",
        "colab": {
          "autoexec": {
            "startup": false,
            "wait_interval": 0
          }
        }
      },
      "cell_type": "code",
      "source": [
        "# Step 0: Receiving and reading the file.\n",
        "import pandas as pd\n",
        "reviews = pd.read_csv('yelp_review.csv')"
      ],
      "execution_count": 0,
      "outputs": []
    },
    {
      "metadata": {
        "id": "r2J3dkV02bw_",
        "colab_type": "code",
        "colab": {
          "autoexec": {
            "startup": false,
            "wait_interval": 0
          },
          "output_extras": [
            {
              "item_id": 1
            }
          ],
          "base_uri": "https://localhost:8080/",
          "height": 34
        },
        "outputId": "be0d5b21-e48e-4c75-c87f-2cb949b51072",
        "executionInfo": {
          "status": "ok",
          "timestamp": 1521585501112,
          "user_tz": 240,
          "elapsed": 344,
          "user": {
            "displayName": "Adityi Jain",
            "photoUrl": "//lh4.googleusercontent.com/-Oendzrm2UYs/AAAAAAAAAAI/AAAAAAAABVI/KLJBHKIpiMo/s50-c-k-no/photo.jpg",
            "userId": "113461199095791330828"
          }
        }
      },
      "cell_type": "code",
      "source": [
        "xyz = reviews[:200000]\n",
        "xyz.head()\n",
        "xyz.shape\n"
      ],
      "execution_count": 6,
      "outputs": [
        {
          "output_type": "execute_result",
          "data": {
            "text/plain": [
              "(200000, 9)"
            ]
          },
          "metadata": {
            "tags": []
          },
          "execution_count": 6
        }
      ]
    },
    {
      "metadata": {
        "id": "1NBGWeef3zkM",
        "colab_type": "code",
        "colab": {
          "autoexec": {
            "startup": false,
            "wait_interval": 0
          },
          "output_extras": [
            {
              "item_id": 1
            }
          ],
          "base_uri": "https://localhost:8080/",
          "height": 199
        },
        "outputId": "bec7bf6e-b511-4a1d-ef0d-b2b8c1787370",
        "executionInfo": {
          "status": "ok",
          "timestamp": 1521585501457,
          "user_tz": 240,
          "elapsed": 278,
          "user": {
            "displayName": "Adityi Jain",
            "photoUrl": "//lh4.googleusercontent.com/-Oendzrm2UYs/AAAAAAAAAAI/AAAAAAAABVI/KLJBHKIpiMo/s50-c-k-no/photo.jpg",
            "userId": "113461199095791330828"
          }
        }
      },
      "cell_type": "code",
      "source": [
        "# taking relevant columns from the reviews\n",
        "review = xyz[['text', 'stars']]\n",
        "review.head()"
      ],
      "execution_count": 7,
      "outputs": [
        {
          "output_type": "execute_result",
          "data": {
            "text/html": [
              "<div>\n",
              "<style scoped>\n",
              "    .dataframe tbody tr th:only-of-type {\n",
              "        vertical-align: middle;\n",
              "    }\n",
              "\n",
              "    .dataframe tbody tr th {\n",
              "        vertical-align: top;\n",
              "    }\n",
              "\n",
              "    .dataframe thead th {\n",
              "        text-align: right;\n",
              "    }\n",
              "</style>\n",
              "<table border=\"1\" class=\"dataframe\">\n",
              "  <thead>\n",
              "    <tr style=\"text-align: right;\">\n",
              "      <th></th>\n",
              "      <th>text</th>\n",
              "      <th>stars</th>\n",
              "    </tr>\n",
              "  </thead>\n",
              "  <tbody>\n",
              "    <tr>\n",
              "      <th>0</th>\n",
              "      <td>Super simple place but amazing nonetheless. It...</td>\n",
              "      <td>5</td>\n",
              "    </tr>\n",
              "    <tr>\n",
              "      <th>1</th>\n",
              "      <td>Small unassuming place that changes their menu...</td>\n",
              "      <td>5</td>\n",
              "    </tr>\n",
              "    <tr>\n",
              "      <th>2</th>\n",
              "      <td>Lester's is located in a beautiful neighborhoo...</td>\n",
              "      <td>5</td>\n",
              "    </tr>\n",
              "    <tr>\n",
              "      <th>3</th>\n",
              "      <td>Love coming here. Yes the place always needs t...</td>\n",
              "      <td>4</td>\n",
              "    </tr>\n",
              "    <tr>\n",
              "      <th>4</th>\n",
              "      <td>Had their chocolate almond croissant and it wa...</td>\n",
              "      <td>4</td>\n",
              "    </tr>\n",
              "  </tbody>\n",
              "</table>\n",
              "</div>"
            ],
            "text/plain": [
              "                                                text  stars\n",
              "0  Super simple place but amazing nonetheless. It...      5\n",
              "1  Small unassuming place that changes their menu...      5\n",
              "2  Lester's is located in a beautiful neighborhoo...      5\n",
              "3  Love coming here. Yes the place always needs t...      4\n",
              "4  Had their chocolate almond croissant and it wa...      4"
            ]
          },
          "metadata": {
            "tags": []
          },
          "execution_count": 7
        }
      ]
    },
    {
      "metadata": {
        "id": "K4OA9_sRB0ae",
        "colab_type": "code",
        "colab": {
          "autoexec": {
            "startup": false,
            "wait_interval": 0
          },
          "output_extras": [
            {
              "item_id": 1
            }
          ],
          "base_uri": "https://localhost:8080/",
          "height": 122
        },
        "outputId": "1751c218-88d4-43f5-c7f8-bc305c0688bd",
        "executionInfo": {
          "status": "ok",
          "timestamp": 1521585501782,
          "user_tz": 240,
          "elapsed": 273,
          "user": {
            "displayName": "Adityi Jain",
            "photoUrl": "//lh4.googleusercontent.com/-Oendzrm2UYs/AAAAAAAAAAI/AAAAAAAABVI/KLJBHKIpiMo/s50-c-k-no/photo.jpg",
            "userId": "113461199095791330828"
          }
        }
      },
      "cell_type": "code",
      "source": [
        "# will help to check how many reviews are there per rating\n",
        "review.stars.value_counts()"
      ],
      "execution_count": 8,
      "outputs": [
        {
          "output_type": "execute_result",
          "data": {
            "text/plain": [
              "5    86501\n",
              "4    46788\n",
              "1    27375\n",
              "3    22779\n",
              "2    16557\n",
              "Name: stars, dtype: int64"
            ]
          },
          "metadata": {
            "tags": []
          },
          "execution_count": 8
        }
      ]
    },
    {
      "metadata": {
        "id": "T_6A5PbtCGNJ",
        "colab_type": "code",
        "colab": {
          "autoexec": {
            "startup": false,
            "wait_interval": 0
          },
          "output_extras": [
            {
              "item_id": 1
            }
          ],
          "base_uri": "https://localhost:8080/",
          "height": 34
        },
        "outputId": "705ccf1f-5e6b-4ca2-f18f-a94a8e71fb19",
        "executionInfo": {
          "status": "ok",
          "timestamp": 1521585502172,
          "user_tz": 240,
          "elapsed": 272,
          "user": {
            "displayName": "Adityi Jain",
            "photoUrl": "//lh4.googleusercontent.com/-Oendzrm2UYs/AAAAAAAAAAI/AAAAAAAABVI/KLJBHKIpiMo/s50-c-k-no/photo.jpg",
            "userId": "113461199095791330828"
          }
        }
      },
      "cell_type": "code",
      "source": [
        "X = review[\"text\"]\n",
        "y = review.stars\n",
        "X.shape\n",
        "y.shape"
      ],
      "execution_count": 9,
      "outputs": [
        {
          "output_type": "execute_result",
          "data": {
            "text/plain": [
              "(200000,)"
            ]
          },
          "metadata": {
            "tags": []
          },
          "execution_count": 9
        }
      ]
    },
    {
      "metadata": {
        "id": "10Mdh5z9COqT",
        "colab_type": "code",
        "colab": {
          "autoexec": {
            "startup": false,
            "wait_interval": 0
          }
        }
      },
      "cell_type": "code",
      "source": [
        "#STEP 1/2: PREPROCESSING AND FEATURES EXTRACTION.\n",
        "#STEMMING OF DOC USING NLTK\n",
        "\n",
        "from sklearn.feature_extraction.text import TfidfVectorizer\n",
        "import nltk.stem\n",
        "\n",
        "english_stemmer = nltk.stem.SnowballStemmer('english')\n",
        "class StemmedTfidfVectorizer(TfidfVectorizer):\n",
        "    def build_analyzer(self):\n",
        "        analyzer = super(StemmedTfidfVectorizer, self).build_analyzer()\n",
        "        return lambda doc: ([english_stemmer.stem(w) for w in analyzer(doc)])\n"
      ],
      "execution_count": 0,
      "outputs": []
    },
    {
      "metadata": {
        "id": "2XHKry-pR_NF",
        "colab_type": "code",
        "colab": {
          "autoexec": {
            "startup": false,
            "wait_interval": 0
          }
        }
      },
      "cell_type": "code",
      "source": [
        "\n",
        "# WILL USE TF-IDF VECTORIZER, WHICH IS COMBINATION OF COUNT VECTORIZER AND TF IDF TRANSFORMER\n",
        "# preprocessing and feature extraction\n",
        "from sklearn.model_selection import train_test_split\n",
        "\n",
        "X_train, X_test, y_train, y_test = train_test_split(X, y, test_size=0.25, random_state=5)\n",
        "\n",
        "#UNIGRAM\n",
        "vectorizer_1 = StemmedTfidfVectorizer(stop_words='english')"
      ],
      "execution_count": 0,
      "outputs": []
    },
    {
      "metadata": {
        "id": "MKRBoOVvsfBu",
        "colab_type": "code",
        "colab": {
          "autoexec": {
            "startup": false,
            "wait_interval": 0
          }
        }
      },
      "cell_type": "code",
      "source": [
        "X_train_dtm = vectorizer_1.fit_transform(X_train)\n",
        "#dtm is data term matrix\n",
        "#do fitting and transfrom in single step\n"
      ],
      "execution_count": 0,
      "outputs": []
    },
    {
      "metadata": {
        "id": "_7hc_JekEN7-",
        "colab_type": "code",
        "colab": {
          "autoexec": {
            "startup": false,
            "wait_interval": 0
          },
          "output_extras": [
            {
              "item_id": 1
            }
          ],
          "base_uri": "https://localhost:8080/",
          "height": 34
        },
        "outputId": "4180eb61-9612-46ad-f790-b07373bdb578",
        "executionInfo": {
          "status": "ok",
          "timestamp": 1521585646352,
          "user_tz": 240,
          "elapsed": 365,
          "user": {
            "displayName": "Adityi Jain",
            "photoUrl": "//lh4.googleusercontent.com/-Oendzrm2UYs/AAAAAAAAAAI/AAAAAAAABVI/KLJBHKIpiMo/s50-c-k-no/photo.jpg",
            "userId": "113461199095791330828"
          }
        }
      },
      "cell_type": "code",
      "source": [
        "tokens = vectorizer_1.get_feature_names()\n",
        "print(len(tokens))\n",
        "# number of features in unigram"
      ],
      "execution_count": 13,
      "outputs": [
        {
          "output_type": "stream",
          "text": [
            "81363\n"
          ],
          "name": "stdout"
        }
      ]
    },
    {
      "metadata": {
        "id": "dw0Wy9wHxT87",
        "colab_type": "code",
        "colab": {
          "autoexec": {
            "startup": false,
            "wait_interval": 0
          }
        }
      },
      "cell_type": "code",
      "source": [
        "X_test_dtm = vectorizer_1.transform(X_test)"
      ],
      "execution_count": 0,
      "outputs": []
    },
    {
      "metadata": {
        "id": "la-Vf44u6k4A",
        "colab_type": "code",
        "colab": {
          "autoexec": {
            "startup": false,
            "wait_interval": 0
          }
        }
      },
      "cell_type": "code",
      "source": [
        "# REPEATING WITH BIGRAM METHOD\n",
        "vectorizer_2 =  StemmedTfidfVectorizer(stop_words=\"english\", ngram_range=(1,2))\n",
        "X_train_dtm_2 = vectorizer_2.fit_transform(X_train)\n"
      ],
      "execution_count": 0,
      "outputs": []
    },
    {
      "metadata": {
        "id": "Q9m4K9Oy-RSh",
        "colab_type": "code",
        "colab": {
          "autoexec": {
            "startup": false,
            "wait_interval": 0
          },
          "output_extras": [
            {
              "item_id": 1
            }
          ],
          "base_uri": "https://localhost:8080/",
          "height": 34
        },
        "outputId": "c4665fc0-3bbf-4285-a008-21da9b21cf36",
        "executionInfo": {
          "status": "ok",
          "timestamp": 1521586013155,
          "user_tz": 240,
          "elapsed": 5596,
          "user": {
            "displayName": "Adityi Jain",
            "photoUrl": "//lh4.googleusercontent.com/-Oendzrm2UYs/AAAAAAAAAAI/AAAAAAAABVI/KLJBHKIpiMo/s50-c-k-no/photo.jpg",
            "userId": "113461199095791330828"
          }
        }
      },
      "cell_type": "code",
      "source": [
        "tokens_2 = vectorizer_2.get_feature_names()\n",
        "print(len(tokens_2))\n",
        "#number of features in bigram"
      ],
      "execution_count": 16,
      "outputs": [
        {
          "output_type": "stream",
          "text": [
            "2849324\n"
          ],
          "name": "stdout"
        }
      ]
    },
    {
      "metadata": {
        "id": "ZWkxvMM5-RPB",
        "colab_type": "code",
        "colab": {
          "autoexec": {
            "startup": false,
            "wait_interval": 0
          }
        }
      },
      "cell_type": "code",
      "source": [
        "X_test_dtm_2 = vectorizer_2.transform(X_test)"
      ],
      "execution_count": 0,
      "outputs": []
    },
    {
      "metadata": {
        "id": "cSDqMbIh-RMd",
        "colab_type": "code",
        "colab": {
          "autoexec": {
            "startup": false,
            "wait_interval": 0
          },
          "output_extras": [
            {
              "item_id": 1
            }
          ],
          "base_uri": "https://localhost:8080/",
          "height": 54
        },
        "outputId": "09fd62f8-1d95-4682-c819-b009ebf6e155",
        "executionInfo": {
          "status": "ok",
          "timestamp": 1521586111819,
          "user_tz": 240,
          "elapsed": 276,
          "user": {
            "displayName": "Adityi Jain",
            "photoUrl": "//lh4.googleusercontent.com/-Oendzrm2UYs/AAAAAAAAAAI/AAAAAAAABVI/KLJBHKIpiMo/s50-c-k-no/photo.jpg",
            "userId": "113461199095791330828"
          }
        }
      },
      "cell_type": "code",
      "source": [
        "print(tokens_2[200000:200059])"
      ],
      "execution_count": 18,
      "outputs": [
        {
          "output_type": "stream",
          "text": [
            "['bag 25', 'bag 30', 'bag 3rd', 'bag 48hr', 'bag 50', 'bag 60', 'bag 600', 'bag 75', 'bag 99', 'bag abercrombi', 'bag absurd', 'bag accessori', 'bag accus', 'bag actu', 'bag ad', 'bag adjust', 'bag adv', 'bag afterward', 'bag ag', 'bag aliant', 'bag alleg', 'bag allegi', 'bag almond', 'bag amaz', 'bag amen', 'bag anxi', 'bag apolog', 'bag appear', 'bag appet', 'bag appl', 'bag approach', 'bag area', 'bag arriv', 'bag ask', 'bag ass', 'bag assassin', 'bag assort', 'bag athletet', 'bag attach', 'bag attempt', 'bag authent', 'bag avail', 'bag avocado', 'bag aw', 'bag away', 'bag awesom', 'bag babi', 'bag bad', 'bag bag', 'bag bagel', 'bag bak', 'bag balaclava', 'bag bar', 'bag barbequ', 'bag bargain', 'bag bas', 'bag bean', 'bag beef', 'bag beer']\n"
          ],
          "name": "stdout"
        }
      ]
    },
    {
      "metadata": {
        "id": "5kOemMzXKlYf",
        "colab_type": "code",
        "colab": {
          "autoexec": {
            "startup": false,
            "wait_interval": 0
          },
          "output_extras": [
            {
              "item_id": 1
            }
          ],
          "base_uri": "https://localhost:8080/",
          "height": 34
        },
        "outputId": "7ddff03b-f01e-424d-e4da-fc399302cf4a",
        "executionInfo": {
          "status": "ok",
          "timestamp": 1521586112180,
          "user_tz": 240,
          "elapsed": 279,
          "user": {
            "displayName": "Adityi Jain",
            "photoUrl": "//lh4.googleusercontent.com/-Oendzrm2UYs/AAAAAAAAAAI/AAAAAAAABVI/KLJBHKIpiMo/s50-c-k-no/photo.jpg",
            "userId": "113461199095791330828"
          }
        }
      },
      "cell_type": "code",
      "source": [
        "#STEP 3: SUPERVISED LEARNING/ EVALUATION\n",
        "# MULTINOMIAL NAIVE BAYES\n",
        "from sklearn.naive_bayes import MultinomialNB\n",
        "nb1 = MultinomialNB()\n",
        "\n",
        "nb1.fit(X_train_dtm, y_train)\n",
        "\n"
      ],
      "execution_count": 19,
      "outputs": [
        {
          "output_type": "execute_result",
          "data": {
            "text/plain": [
              "MultinomialNB(alpha=1.0, class_prior=None, fit_prior=True)"
            ]
          },
          "metadata": {
            "tags": []
          },
          "execution_count": 19
        }
      ]
    },
    {
      "metadata": {
        "id": "Smt9djvm6ZQo",
        "colab_type": "code",
        "colab": {
          "autoexec": {
            "startup": false,
            "wait_interval": 0
          },
          "output_extras": [
            {
              "item_id": 1
            }
          ],
          "base_uri": "https://localhost:8080/",
          "height": 34
        },
        "outputId": "a0e882f5-dce7-469a-aa58-0ac26ccabf86",
        "executionInfo": {
          "status": "ok",
          "timestamp": 1521586113574,
          "user_tz": 240,
          "elapsed": 1336,
          "user": {
            "displayName": "Adityi Jain",
            "photoUrl": "//lh4.googleusercontent.com/-Oendzrm2UYs/AAAAAAAAAAI/AAAAAAAABVI/KLJBHKIpiMo/s50-c-k-no/photo.jpg",
            "userId": "113461199095791330828"
          }
        }
      },
      "cell_type": "code",
      "source": [
        "nb2 = MultinomialNB()\n",
        "nb2.fit(X_train_dtm_2, y_train)"
      ],
      "execution_count": 20,
      "outputs": [
        {
          "output_type": "execute_result",
          "data": {
            "text/plain": [
              "MultinomialNB(alpha=1.0, class_prior=None, fit_prior=True)"
            ]
          },
          "metadata": {
            "tags": []
          },
          "execution_count": 20
        }
      ]
    },
    {
      "metadata": {
        "id": "r30cuVwI5eq_",
        "colab_type": "code",
        "colab": {
          "autoexec": {
            "startup": false,
            "wait_interval": 0
          }
        }
      },
      "cell_type": "code",
      "source": [
        "y_pred_nb1 = nb1.predict(X_test_dtm)\n"
      ],
      "execution_count": 0,
      "outputs": []
    },
    {
      "metadata": {
        "id": "FQ-eFAtL6bVR",
        "colab_type": "code",
        "colab": {
          "autoexec": {
            "startup": false,
            "wait_interval": 0
          }
        }
      },
      "cell_type": "code",
      "source": [
        "y_pred_nb2 = nb2.predict(X_test_dtm_2)"
      ],
      "execution_count": 0,
      "outputs": []
    },
    {
      "metadata": {
        "id": "H92NOZiq5q-M",
        "colab_type": "code",
        "colab": {
          "autoexec": {
            "startup": false,
            "wait_interval": 0
          },
          "output_extras": [
            {
              "item_id": 1
            }
          ],
          "base_uri": "https://localhost:8080/",
          "height": 34
        },
        "outputId": "a52da2a0-1349-4169-f4f5-876f3bd9cd0a",
        "executionInfo": {
          "status": "ok",
          "timestamp": 1521586114746,
          "user_tz": 240,
          "elapsed": 272,
          "user": {
            "displayName": "Adityi Jain",
            "photoUrl": "//lh4.googleusercontent.com/-Oendzrm2UYs/AAAAAAAAAAI/AAAAAAAABVI/KLJBHKIpiMo/s50-c-k-no/photo.jpg",
            "userId": "113461199095791330828"
          }
        }
      },
      "cell_type": "code",
      "source": [
        "from sklearn.metrics import f1_score\n",
        "#F1 score for unigram NB\n",
        "f1_score(y_test, y_pred_nb1, average= 'weighted')\n"
      ],
      "execution_count": 23,
      "outputs": [
        {
          "output_type": "execute_result",
          "data": {
            "text/plain": [
              "0.43847600823977745"
            ]
          },
          "metadata": {
            "tags": []
          },
          "execution_count": 23
        }
      ]
    },
    {
      "metadata": {
        "id": "GKjufNZa5ydV",
        "colab_type": "code",
        "colab": {
          "autoexec": {
            "startup": false,
            "wait_interval": 0
          },
          "output_extras": [
            {
              "item_id": 1
            }
          ],
          "base_uri": "https://localhost:8080/",
          "height": 34
        },
        "outputId": "bba8aa62-19a8-47a8-d6c2-b1b4a8569c91",
        "executionInfo": {
          "status": "ok",
          "timestamp": 1521586115136,
          "user_tz": 240,
          "elapsed": 320,
          "user": {
            "displayName": "Adityi Jain",
            "photoUrl": "//lh4.googleusercontent.com/-Oendzrm2UYs/AAAAAAAAAAI/AAAAAAAABVI/KLJBHKIpiMo/s50-c-k-no/photo.jpg",
            "userId": "113461199095791330828"
          }
        }
      },
      "cell_type": "code",
      "source": [
        "# F1 score for bigram NB\n",
        "# to ignore warning due to classes with no predictions made\n",
        "import warnings\n",
        "warnings.filterwarnings('ignore')\n",
        "f1_score(y_test, y_pred_nb2, average= 'weighted')\n"
      ],
      "execution_count": 24,
      "outputs": [
        {
          "output_type": "execute_result",
          "data": {
            "text/plain": [
              "0.28645948412433225"
            ]
          },
          "metadata": {
            "tags": []
          },
          "execution_count": 24
        }
      ]
    },
    {
      "metadata": {
        "id": "LCLGYEd051G0",
        "colab_type": "code",
        "colab": {
          "autoexec": {
            "startup": false,
            "wait_interval": 0
          },
          "output_extras": [
            {
              "item_id": 1
            }
          ],
          "base_uri": "https://localhost:8080/",
          "height": 87
        },
        "outputId": "069e1030-fd33-4bc5-bfbd-a1cfa39ee679",
        "executionInfo": {
          "status": "ok",
          "timestamp": 1521586148156,
          "user_tz": 240,
          "elapsed": 32885,
          "user": {
            "displayName": "Adityi Jain",
            "photoUrl": "//lh4.googleusercontent.com/-Oendzrm2UYs/AAAAAAAAAAI/AAAAAAAABVI/KLJBHKIpiMo/s50-c-k-no/photo.jpg",
            "userId": "113461199095791330828"
          }
        }
      },
      "cell_type": "code",
      "source": [
        "# LOGISTIC REGRESSION\n",
        "from sklearn.linear_model import LogisticRegression\n",
        "lr1 = LogisticRegression(class_weight='balanced')\n",
        "lr1.fit(X_train_dtm, y_train)\n"
      ],
      "execution_count": 25,
      "outputs": [
        {
          "output_type": "execute_result",
          "data": {
            "text/plain": [
              "LogisticRegression(C=1.0, class_weight='balanced', dual=False,\n",
              "          fit_intercept=True, intercept_scaling=1, max_iter=100,\n",
              "          multi_class='ovr', n_jobs=1, penalty='l2', random_state=None,\n",
              "          solver='liblinear', tol=0.0001, verbose=0, warm_start=False)"
            ]
          },
          "metadata": {
            "tags": []
          },
          "execution_count": 25
        }
      ]
    },
    {
      "metadata": {
        "id": "YhbNJZuEA0AN",
        "colab_type": "code",
        "colab": {
          "autoexec": {
            "startup": false,
            "wait_interval": 0
          }
        }
      },
      "cell_type": "code",
      "source": [
        "y_pred_lr1 = lr1.predict(X_test_dtm)"
      ],
      "execution_count": 0,
      "outputs": []
    },
    {
      "metadata": {
        "id": "uP0fhuPR1gNw",
        "colab_type": "code",
        "colab": {
          "autoexec": {
            "startup": false,
            "wait_interval": 0
          },
          "output_extras": [
            {
              "item_id": 1
            }
          ],
          "base_uri": "https://localhost:8080/",
          "height": 87
        },
        "outputId": "c9d442db-6f9c-453b-93f7-747d61a41eb4",
        "executionInfo": {
          "status": "ok",
          "timestamp": 1521586228506,
          "user_tz": 240,
          "elapsed": 79811,
          "user": {
            "displayName": "Adityi Jain",
            "photoUrl": "//lh4.googleusercontent.com/-Oendzrm2UYs/AAAAAAAAAAI/AAAAAAAABVI/KLJBHKIpiMo/s50-c-k-no/photo.jpg",
            "userId": "113461199095791330828"
          }
        }
      },
      "cell_type": "code",
      "source": [
        "lr2 = LogisticRegression(class_weight='balanced')\n",
        "lr2.fit(X_train_dtm_2, y_train)"
      ],
      "execution_count": 27,
      "outputs": [
        {
          "output_type": "execute_result",
          "data": {
            "text/plain": [
              "LogisticRegression(C=1.0, class_weight='balanced', dual=False,\n",
              "          fit_intercept=True, intercept_scaling=1, max_iter=100,\n",
              "          multi_class='ovr', n_jobs=1, penalty='l2', random_state=None,\n",
              "          solver='liblinear', tol=0.0001, verbose=0, warm_start=False)"
            ]
          },
          "metadata": {
            "tags": []
          },
          "execution_count": 27
        }
      ]
    },
    {
      "metadata": {
        "id": "-sxXbA_R1lh5",
        "colab_type": "code",
        "colab": {
          "autoexec": {
            "startup": false,
            "wait_interval": 0
          }
        }
      },
      "cell_type": "code",
      "source": [
        "y_pred_lr2 = lr2.predict(X_test_dtm_2)"
      ],
      "execution_count": 0,
      "outputs": []
    },
    {
      "metadata": {
        "id": "e9eZQqau2P6M",
        "colab_type": "code",
        "colab": {
          "autoexec": {
            "startup": false,
            "wait_interval": 0
          },
          "output_extras": [
            {
              "item_id": 1
            }
          ],
          "base_uri": "https://localhost:8080/",
          "height": 34
        },
        "outputId": "9ad56031-0a34-4879-e7d2-096325424dfa",
        "executionInfo": {
          "status": "ok",
          "timestamp": 1521586229247,
          "user_tz": 240,
          "elapsed": 310,
          "user": {
            "displayName": "Adityi Jain",
            "photoUrl": "//lh4.googleusercontent.com/-Oendzrm2UYs/AAAAAAAAAAI/AAAAAAAABVI/KLJBHKIpiMo/s50-c-k-no/photo.jpg",
            "userId": "113461199095791330828"
          }
        }
      },
      "cell_type": "code",
      "source": [
        "# F1 score for unigram LR\n",
        "f1_score(y_test, y_pred_lr1, average= 'weighted')"
      ],
      "execution_count": 29,
      "outputs": [
        {
          "output_type": "execute_result",
          "data": {
            "text/plain": [
              "0.6380637428163922"
            ]
          },
          "metadata": {
            "tags": []
          },
          "execution_count": 29
        }
      ]
    },
    {
      "metadata": {
        "id": "9hQdau202aTH",
        "colab_type": "code",
        "colab": {
          "autoexec": {
            "startup": false,
            "wait_interval": 0
          },
          "output_extras": [
            {
              "item_id": 1
            }
          ],
          "base_uri": "https://localhost:8080/",
          "height": 34
        },
        "outputId": "327350b2-42be-49d1-ba56-f5d1cedc1b56",
        "executionInfo": {
          "status": "ok",
          "timestamp": 1521586229737,
          "user_tz": 240,
          "elapsed": 410,
          "user": {
            "displayName": "Adityi Jain",
            "photoUrl": "//lh4.googleusercontent.com/-Oendzrm2UYs/AAAAAAAAAAI/AAAAAAAABVI/KLJBHKIpiMo/s50-c-k-no/photo.jpg",
            "userId": "113461199095791330828"
          }
        }
      },
      "cell_type": "code",
      "source": [
        "# F1 score for bigram LR\n",
        "f1_score(y_test, y_pred_lr2, average= 'weighted')"
      ],
      "execution_count": 30,
      "outputs": [
        {
          "output_type": "execute_result",
          "data": {
            "text/plain": [
              "0.6486225428994348"
            ]
          },
          "metadata": {
            "tags": []
          },
          "execution_count": 30
        }
      ]
    },
    {
      "metadata": {
        "id": "gs1CTRGA2eRF",
        "colab_type": "code",
        "colab": {
          "autoexec": {
            "startup": false,
            "wait_interval": 0
          }
        }
      },
      "cell_type": "code",
      "source": [
        "# DECISION TREE CLASSIFICATION\n",
        "from sklearn.grid_search import GridSearchCV\n",
        "from sklearn.metrics import make_scorer\n",
        "from sklearn.ensemble import RandomForestClassifier\n",
        "param_grid = {'max_depth': [45, 65, 95, 100],\"min_samples_leaf\": [5,8,11,14], \"min_samples_split\": [5,8,11,14] }\n",
        "clf = RandomForestClassifier(class_weight=\"balanced\")\n",
        "\n",
        "grid_obj1 = GridSearchCV(clf, param_grid, scoring=\"f1_weighted\")"
      ],
      "execution_count": 0,
      "outputs": []
    },
    {
      "metadata": {
        "id": "gztQK95IVSwb",
        "colab_type": "code",
        "colab": {
          "autoexec": {
            "startup": false,
            "wait_interval": 0
          }
        }
      },
      "cell_type": "code",
      "source": [
        "grid_fit1 = grid_obj1.fit(X_train_dtm, y_train)"
      ],
      "execution_count": 0,
      "outputs": []
    },
    {
      "metadata": {
        "id": "hLiSs7HnUCo9",
        "colab_type": "code",
        "colab": {
          "autoexec": {
            "startup": false,
            "wait_interval": 0
          }
        }
      },
      "cell_type": "code",
      "source": [
        "grid_best_1 = grid_fit1.best_params_"
      ],
      "execution_count": 0,
      "outputs": []
    },
    {
      "metadata": {
        "id": "Kh2Y0ryEUZwd",
        "colab_type": "code",
        "colab": {
          "autoexec": {
            "startup": false,
            "wait_interval": 0
          }
        }
      },
      "cell_type": "code",
      "source": [
        ""
      ],
      "execution_count": 0,
      "outputs": []
    }
  ]
}