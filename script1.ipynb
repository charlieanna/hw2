{
 "cells": [
  {
   "cell_type": "code",
   "execution_count": 139,
   "metadata": {
    "colab": {
     "autoexec": {
      "startup": false,
      "wait_interval": 0
     }
    },
    "colab_type": "code",
    "id": "2iZhTgUyJa3b"
   },
   "outputs": [],
   "source": [
    "import pandas as pd\n",
    "import numpy as np\n",
    "import tensorflow as tf\n",
    "from sklearn.model_selection import train_test_split"
   ]
  },
  {
   "cell_type": "code",
   "execution_count": 140,
   "metadata": {
    "colab": {
     "autoexec": {
      "startup": false,
      "wait_interval": 0
     }
    },
    "colab_type": "code",
    "id": "Vs-7KL9TJa3e"
   },
   "outputs": [],
   "source": [
    "import numpy as np\n",
    "import tensorflow as tf\n",
    "from keras.datasets import cifar10\n",
    "(features, labels), (X_test_orig, Y_test_orig) = cifar10.load_data()\n",
    "features = features/255 - 0.5\n",
    "labels = labels.flatten()\n",
    "\n",
    "test_images = X_test_orig/255 - 0.5\n",
    "test_labels = Y_test_orig.flatten()\n"
   ]
  },
  {
   "cell_type": "code",
   "execution_count": 141,
   "metadata": {
    "colab": {
     "autoexec": {
      "startup": false,
      "wait_interval": 0
     }
    },
    "colab_type": "code",
    "id": "JQ_L7WIxJa3q"
   },
   "outputs": [],
   "source": [
    "#for stability\n",
    "def reset_graph(seed=42):\n",
    "    tf.reset_default_graph()\n",
    "    tf.set_random_seed(seed)\n",
    "    np.random.seed(seed)\n",
    "\n",
    "reset_graph()"
   ]
  },
  {
   "cell_type": "code",
   "execution_count": 142,
   "metadata": {
    "colab": {
     "autoexec": {
      "startup": false,
      "wait_interval": 0
     }
    },
    "colab_type": "code",
    "id": "CEl7C6z9Ja3t"
   },
   "outputs": [
    {
     "name": "stdout",
     "output_type": "stream",
     "text": [
      "designing model\n"
     ]
    }
   ],
   "source": [
    "print('designing model')\n",
    "# Training Parameters\n",
    "learning_rate = 0.005\n",
    "n_epochs = 2500 # changed to 2500 for a LB score of ~2.69\n",
    "\n",
    "\n",
    "# Network Parameters\n",
    "num_input = 32*32 #size of the images\n",
    "num_classes = 10 # Binary\n",
    "dropout = 0.4 # Dropout, probability to keep units"
   ]
  },
  {
   "cell_type": "code",
   "execution_count": 143,
   "metadata": {
    "colab": {
     "autoexec": {
      "startup": false,
      "wait_interval": 0
     }
    },
    "colab_type": "code",
    "id": "k0ogIUXhJa3w"
   },
   "outputs": [],
   "source": [
    "X = tf.placeholder(tf.float32, shape=(None, 32, 32, 3), name=\"X\")\n",
    "y = tf.placeholder(tf.int64, shape=(None), name=\"y\")\n",
    "\n",
    "\n",
    "with tf.variable_scope('ConvNet'):\n",
    "    # Convolutional Layer #1\n",
    "    dropout_rate = 0.3\n",
    "\n",
    "    training = tf.placeholder_with_default(False, shape=(), name='training')\n",
    "    X_drop = tf.layers.dropout(X, dropout_rate, training=training)\n",
    "    conv1 = tf.layers.conv2d(X_drop, filters=32,\n",
    "                         kernel_size=5,\n",
    "                         strides=1, padding=\"SAME\",\n",
    "                         activation=tf.nn.relu, name=\"conv1\")\n",
    "\n",
    "    conv2 = tf.layers.conv2d(conv1, filters=64, \n",
    "                         kernel_size=3,\n",
    "                         strides=2, padding=\"SAME\",\n",
    "                         activation=tf.nn.relu, name=\"conv2\")\n",
    "    pool3 = tf.nn.max_pool(conv2,\n",
    "                       ksize=[1, 2, 2, 1],\n",
    "                       strides=[1, 2, 2, 1],\n",
    "                       padding=\"VALID\")\n",
    "    conv4 = tf.layers.conv2d(pool3, filters=128, \n",
    "                         kernel_size=4,\n",
    "                         strides=3, padding=\"SAME\",\n",
    "                         activation=tf.nn.relu, name=\"conv4\")\n",
    "\n",
    "    pool5 = tf.nn.max_pool(conv4,\n",
    "                       ksize=[1, 2, 2, 1],\n",
    "                       strides=[1, 1, 1, 1],\n",
    "                       padding=\"VALID\")\n",
    "\n",
    "    pool5_flat = tf.contrib.layers.flatten(pool5)\n",
    "\n",
    "    fullyconn1 = tf.layers.dense(pool5_flat, 128,\n",
    "                             activation=tf.nn.relu, name=\"fc1\")\n",
    "\n",
    "    fullyconn2 = tf.layers.dense(fullyconn1, 64,\n",
    "                             activation=tf.nn.relu, name=\"fc2\")\n",
    "    logits = tf.layers.dense(fullyconn2, 10, name=\"output\")"
   ]
  },
  {
   "cell_type": "code",
   "execution_count": 144,
   "metadata": {
    "colab": {
     "autoexec": {
      "startup": false,
      "wait_interval": 0
     }
    },
    "colab_type": "code",
    "id": "tNRslhObJa3y"
   },
   "outputs": [],
   "source": [
    "with tf.name_scope(\"loss\"):\n",
    "    xentropy = tf.nn.sparse_softmax_cross_entropy_with_logits(labels=y, logits=logits)\n",
    "    loss = tf.reduce_mean(xentropy, name=\"loss\")"
   ]
  },
  {
   "cell_type": "code",
   "execution_count": 145,
   "metadata": {
    "colab": {
     "autoexec": {
      "startup": false,
      "wait_interval": 0
     }
    },
    "colab_type": "code",
    "id": "EQe1J59EJa32"
   },
   "outputs": [],
   "source": [
    "with tf.name_scope(\"train\"):\n",
    "    optimizer = tf.train.AdamOptimizer()\n",
    "    training_op = optimizer.minimize(loss)"
   ]
  },
  {
   "cell_type": "code",
   "execution_count": 146,
   "metadata": {
    "colab": {
     "autoexec": {
      "startup": false,
      "wait_interval": 0
     }
    },
    "colab_type": "code",
    "id": "0ZSe2VMDJa36"
   },
   "outputs": [],
   "source": [
    "with tf.name_scope(\"eval\"):\n",
    "    correct = tf.nn.in_top_k(logits, y, 1)\n",
    "    accuracy = tf.reduce_mean(tf.cast(correct, tf.float32))"
   ]
  },
  {
   "cell_type": "code",
   "execution_count": 147,
   "metadata": {
    "colab": {
     "autoexec": {
      "startup": false,
      "wait_interval": 0
     }
    },
    "colab_type": "code",
    "id": "7Z-tn6QIJa39"
   },
   "outputs": [],
   "source": [
    "init = tf.global_variables_initializer()\n",
    "saver = tf.train.Saver()"
   ]
  },
  {
   "cell_type": "code",
   "execution_count": 148,
   "metadata": {},
   "outputs": [],
   "source": [
    "def get_next_batch(features, labels, train_size, batch_index, batch_size):\n",
    "    training_images = features[:train_size,:,:]\n",
    "    training_labels = labels[:train_size]\n",
    "    \n",
    "    start_index = batch_index * batch_size\n",
    "    end_index = start_index + batch_size\n",
    "\n",
    "    return features[start_index:end_index,:,:], labels[start_index:end_index]"
   ]
  },
  {
   "cell_type": "code",
   "execution_count": 149,
   "metadata": {
    "colab": {
     "autoexec": {
      "startup": false,
      "wait_interval": 0
     }
    },
    "colab_type": "code",
    "id": "ukUrSHIyJa3_"
   },
   "outputs": [
    {
     "name": "stdout",
     "output_type": "stream",
     "text": [
      "training model\n",
      "\n",
      "0 Train accuracy: 0.601562 Test accuracy: 0.5273\n",
      "Train Accuracy: 60.0000023842 %\tTest Accuracy: 52.999997139 %\n",
      "1 Train accuracy: 0.6875 Test accuracy: 0.6085\n",
      "Train Accuracy: 68.9999997616 %\tTest Accuracy: 61.0000014305 %\n",
      "2 Train accuracy: 0.71875 Test accuracy: 0.6345\n",
      "Train Accuracy: 72.000002861 %\tTest Accuracy: 62.9999995232 %\n",
      "3 Train accuracy: 0.726562 Test accuracy: 0.6454\n",
      "Train Accuracy: 73.0000019073 %\tTest Accuracy: 64.9999976158 %\n",
      "4 Train accuracy: 0.796875 Test accuracy: 0.6654\n",
      "Train Accuracy: 80.0000011921 %\tTest Accuracy: 67.0000016689 %\n",
      "5 Train accuracy: 0.8125 Test accuracy: 0.6636\n",
      "Train Accuracy: 81.0000002384 %\tTest Accuracy: 66.0000026226 %\n",
      "6 Train accuracy: 0.820312 Test accuracy: 0.6611\n",
      "Train Accuracy: 81.9999992847 %\tTest Accuracy: 66.0000026226 %\n",
      "7 Train accuracy: 0.867188 Test accuracy: 0.6691\n",
      "Train Accuracy: 87.0000004768 %\tTest Accuracy: 67.0000016689 %\n",
      "8 Train accuracy: 0.898438 Test accuracy: 0.6794\n",
      "Train Accuracy: 89.9999976158 %\tTest Accuracy: 68.0000007153 %\n",
      "9 Train accuracy: 0.859375 Test accuracy: 0.6698\n",
      "Train Accuracy: 86.0000014305 %\tTest Accuracy: 67.0000016689 %\n",
      "10 Train accuracy: 0.84375 Test accuracy: 0.6601\n",
      "Train Accuracy: 83.9999973774 %\tTest Accuracy: 66.0000026226 %\n",
      "11 Train accuracy: 0.90625 Test accuracy: 0.6522\n",
      "Train Accuracy: 91.0000026226 %\tTest Accuracy: 64.9999976158 %\n",
      "12 Train accuracy: 0.921875 Test accuracy: 0.6563\n",
      "Train Accuracy: 92.0000016689 %\tTest Accuracy: 66.0000026226 %\n",
      "13 Train accuracy: 0.9375 Test accuracy: 0.667\n",
      "Train Accuracy: 93.9999997616 %\tTest Accuracy: 67.0000016689 %\n",
      "14 Train accuracy: 0.914062 Test accuracy: 0.6421\n",
      "Train Accuracy: 91.0000026226 %\tTest Accuracy: 63.9999985695 %\n",
      "15 Train accuracy: 0.898438 Test accuracy: 0.6423\n",
      "Train Accuracy: 89.9999976158 %\tTest Accuracy: 63.9999985695 %\n",
      "16 Train accuracy: 0.953125 Test accuracy: 0.6495\n",
      "Train Accuracy: 94.9999988079 %\tTest Accuracy: 64.9999976158 %\n",
      "17 Train accuracy: 0.914062 Test accuracy: 0.6275\n",
      "Train Accuracy: 91.0000026226 %\tTest Accuracy: 62.9999995232 %\n",
      "18 Train accuracy: 0.945312 Test accuracy: 0.6213\n",
      "Train Accuracy: 94.9999988079 %\tTest Accuracy: 62.0000004768 %\n",
      "19 Train accuracy: 0.945312 Test accuracy: 0.639\n",
      "Train Accuracy: 94.9999988079 %\tTest Accuracy: 63.9999985695 %\n",
      "20 Train accuracy: 0.960938 Test accuracy: 0.6461\n",
      "Train Accuracy: 95.9999978542 %\tTest Accuracy: 64.9999976158 %\n",
      "21 Train accuracy: 0.96875 Test accuracy: 0.6497\n",
      "Train Accuracy: 97.000002861 %\tTest Accuracy: 64.9999976158 %\n",
      "22 Train accuracy: 0.96875 Test accuracy: 0.6415\n",
      "Train Accuracy: 97.000002861 %\tTest Accuracy: 63.9999985695 %\n",
      "23 Train accuracy: 0.992188 Test accuracy: 0.6553\n",
      "Train Accuracy: 99.0000009537 %\tTest Accuracy: 66.0000026226 %\n",
      "24 Train accuracy: 1.0 Test accuracy: 0.6588\n",
      "Train Accuracy: 100.0 %\tTest Accuracy: 66.0000026226 %\n",
      "25 Train accuracy: 0.992188 Test accuracy: 0.6519\n",
      "Train Accuracy: 99.0000009537 %\tTest Accuracy: 64.9999976158 %\n",
      "26 Train accuracy: 0.992188 Test accuracy: 0.6544\n",
      "Train Accuracy: 99.0000009537 %\tTest Accuracy: 64.9999976158 %\n",
      "27 Train accuracy: 0.984375 Test accuracy: 0.6505\n",
      "Train Accuracy: 98.0000019073 %\tTest Accuracy: 64.9999976158 %\n",
      "28 Train accuracy: 0.992188 Test accuracy: 0.6572\n",
      "Train Accuracy: 99.0000009537 %\tTest Accuracy: 66.0000026226 %\n",
      "29 Train accuracy: 0.992188 Test accuracy: 0.6528\n",
      "Train Accuracy: 99.0000009537 %\tTest Accuracy: 64.9999976158 %\n",
      "30 Train accuracy: 0.992188 Test accuracy: 0.6576\n",
      "Train Accuracy: 99.0000009537 %\tTest Accuracy: 66.0000026226 %\n",
      "31 Train accuracy: 0.984375 Test accuracy: 0.6589\n",
      "Train Accuracy: 98.0000019073 %\tTest Accuracy: 66.0000026226 %\n",
      "32 Train accuracy: 0.976562 Test accuracy: 0.656\n",
      "Train Accuracy: 98.0000019073 %\tTest Accuracy: 66.0000026226 %\n",
      "33 Train accuracy: 1.0 Test accuracy: 0.6522\n",
      "Train Accuracy: 100.0 %\tTest Accuracy: 64.9999976158 %\n",
      "34 Train accuracy: 0.984375 Test accuracy: 0.6543\n",
      "Train Accuracy: 98.0000019073 %\tTest Accuracy: 64.9999976158 %\n",
      "35 Train accuracy: 0.984375 Test accuracy: 0.6469\n",
      "Train Accuracy: 98.0000019073 %\tTest Accuracy: 64.9999976158 %\n",
      "36 Train accuracy: 1.0 Test accuracy: 0.6519\n",
      "Train Accuracy: 100.0 %\tTest Accuracy: 64.9999976158 %\n",
      "37 Train accuracy: 1.0 Test accuracy: 0.6507\n",
      "Train Accuracy: 100.0 %\tTest Accuracy: 64.9999976158 %\n",
      "38 Train accuracy: 1.0 Test accuracy: 0.6535\n",
      "Train Accuracy: 100.0 %\tTest Accuracy: 64.9999976158 %\n",
      "39 Train accuracy: 0.992188 Test accuracy: 0.6478\n",
      "Train Accuracy: 99.0000009537 %\tTest Accuracy: 64.9999976158 %\n",
      "40 Train accuracy: 1.0 Test accuracy: 0.6526\n",
      "Train Accuracy: 100.0 %\tTest Accuracy: 64.9999976158 %\n",
      "41 Train accuracy: 1.0 Test accuracy: 0.6543\n",
      "Train Accuracy: 100.0 %\tTest Accuracy: 64.9999976158 %\n",
      "42 Train accuracy: 1.0 Test accuracy: 0.6484\n",
      "Train Accuracy: 100.0 %\tTest Accuracy: 64.9999976158 %\n",
      "43 Train accuracy: 0.992188 Test accuracy: 0.6448\n",
      "Train Accuracy: 99.0000009537 %\tTest Accuracy: 63.9999985695 %\n",
      "44 Train accuracy: 1.0 Test accuracy: 0.6574\n",
      "Train Accuracy: 100.0 %\tTest Accuracy: 66.0000026226 %\n",
      "45 Train accuracy: 1.0 Test accuracy: 0.6509\n",
      "Train Accuracy: 100.0 %\tTest Accuracy: 64.9999976158 %\n",
      "46 Train accuracy: 1.0 Test accuracy: 0.6584\n",
      "Train Accuracy: 100.0 %\tTest Accuracy: 66.0000026226 %\n",
      "47 Train accuracy: 1.0 Test accuracy: 0.6623\n",
      "Train Accuracy: 100.0 %\tTest Accuracy: 66.0000026226 %\n",
      "48 Train accuracy: 1.0 Test accuracy: 0.651\n",
      "Train Accuracy: 100.0 %\tTest Accuracy: 64.9999976158 %\n",
      "49 Train accuracy: 0.992188 Test accuracy: 0.6578\n",
      "Train Accuracy: 99.0000009537 %\tTest Accuracy: 66.0000026226 %\n"
     ]
    }
   ],
   "source": [
    "print('training model\\n')\n",
    "n_epochs = 50\n",
    "batch_size = 128\n",
    "\n",
    "with tf.Session() as sess:\n",
    "    init.run()\n",
    "    for epoch in range(n_epochs):\n",
    "#         batch_index = 0\n",
    "        # Add this in when we want to run the training on all batches in CIFAR-10\n",
    "        batch_index = 0\n",
    "\n",
    "        train_size = int(len(features))\n",
    "\n",
    "        for iteration in range(train_size // batch_size):\n",
    "            X_batch, y_batch = get_next_batch(features, \n",
    "                                                                        labels, \n",
    "                                                                        train_size, \n",
    "                                                                        batch_index,\n",
    "                                                                        batch_size)\n",
    "            batch_index += 1\n",
    "\n",
    "            sess.run(training_op, feed_dict={X: X_batch, y: y_batch})\n",
    "\n",
    "        acc_train = accuracy.eval(feed_dict={X: X_batch, y: y_batch})\n",
    "        acc_test = accuracy.eval(feed_dict={X: test_images, y: test_labels})\n",
    "        print(epoch, \"Train accuracy:\", acc_train, \"Test accuracy:\", acc_test)\n",
    "        print (\"Train Accuracy:\", round(acc_train, 2)*100,\"%\",  end=\"\\t\")\n",
    "        print (\"Test Accuracy:\", round(acc_test, 2)*100,\"%\", end=\"\\n\")\n",
    "    #    save_path = saver.save(sess, \"./cifar_model\")\n",
    "    save_path = saver.save(sess, \"model/cnn.ckpt\")"
   ]
  },
  {
   "cell_type": "code",
   "execution_count": 150,
   "metadata": {
    "colab": {
     "autoexec": {
      "startup": false,
      "wait_interval": 0
     }
    },
    "colab_type": "code",
    "id": "1CqmeofQJa4L"
   },
   "outputs": [
    {
     "name": "stdout",
     "output_type": "stream",
     "text": [
      "making predictions\n",
      "\n",
      "INFO:tensorflow:Restoring parameters from model/cnn.ckpt\n"
     ]
    },
    {
     "name": "stderr",
     "output_type": "stream",
     "text": [
      "INFO:tensorflow:Restoring parameters from model/cnn.ckpt\n"
     ]
    },
    {
     "name": "stdout",
     "output_type": "stream",
     "text": [
      "Your algorithm predicts: y = cat\n"
     ]
    }
   ],
   "source": [
    "\n",
    "print('making predictions\\n')\n",
    "#make external predictions on the test_dat\n",
    "with tf.Session() as sess:\n",
    "    saver.restore(sess, \"model/cnn.ckpt\") # or better, use save_path\n",
    "    import cv2\n",
    "    img = cv2.imread(\"horse1.png\")\n",
    "    img = cv2.resize(img, (32, 32))\n",
    "    resized_image_flatten = img.reshape(1, img.shape[0], img.shape[1], img.shape[2])\n",
    "    classnames = ['plane', 'car', 'bird', 'cat', 'deer', 'dog', 'frog', 'horse', 'ship', 'truck']\n",
    "    print(\"Your algorithm predicts: y = \" + classnames[logits.eval(feed_dict={X: resized_image_flatten}).argmax()])\n",
    "\n",
    "\n"
   ]
  },
  {
   "cell_type": "code",
   "execution_count": 151,
   "metadata": {},
   "outputs": [
    {
     "name": "stdout",
     "output_type": "stream",
     "text": [
      "making predictions\n",
      "\n",
      "INFO:tensorflow:Restoring parameters from model/cnn.ckpt\n"
     ]
    },
    {
     "name": "stderr",
     "output_type": "stream",
     "text": [
      "INFO:tensorflow:Restoring parameters from model/cnn.ckpt\n"
     ]
    },
    {
     "data": {
      "image/png": "[encoded data removed]",
      "text/plain": [
       "<matplotlib.figure.Figure at 0x7fd2d91842b0>"
      ]
     },
     "metadata": {},
     "output_type": "display_data"
    }
   ],
   "source": [
    "import matplotlib as mp\n",
    "%matplotlib inline\n",
    "import matplotlib.pyplot as plt\n",
    "import math\n",
    "import tensorflow as tf\n",
    "print('making predictions\\n')\n",
    "#make external predictions on the test_dat\n",
    "with tf.Session() as sess:\n",
    "    saver.restore(sess, \"model/cnn.ckpt\") # or better, use save_path\n",
    "    import cv2\n",
    "    img = cv2.imread(\"airplane1.png\")\n",
    "    img = cv2.resize(img, (32, 32))\n",
    "    resized_image_flatten = img.reshape(1, img.shape[0], img.shape[1], img.shape[2])\n",
    "    classnames = ['plane', 'car', 'bird', 'cat', 'deer', 'dog', 'frog', 'horse', 'ship', 'truck']\n",
    "    units = conv1.eval(feed_dict={X: resized_image_flatten})\n",
    "    filters = units.shape[3]\n",
    "    plt.figure(1, figsize=(20,20))\n",
    "    n_columns = 6\n",
    "    n_rows = math.ceil(filters / n_columns) + 1\n",
    "    for i in range(filters):\n",
    "        plt.subplot(n_rows, n_columns, i+1)\n",
    "        plt.imshow(units[0,:,:,i], interpolation=\"nearest\", cmap=\"gray\")\n"
   ]
  },
  {
   "cell_type": "code",
   "execution_count": null,
   "metadata": {
    "colab": {
     "autoexec": {
      "startup": false,
      "wait_interval": 0
     }
    },
    "colab_type": "code",
    "id": "Z6i5D5jzJa4O"
   },
   "outputs": [],
   "source": []
  },
  {
   "cell_type": "code",
   "execution_count": 106,
   "metadata": {},
   "outputs": [],
   "source": []
  },
  {
   "cell_type": "code",
   "execution_count": null,
   "metadata": {},
   "outputs": [],
   "source": []
  },
  {
   "cell_type": "code",
   "execution_count": null,
   "metadata": {},
   "outputs": [],
   "source": []
  }
 ],
 "metadata": {
  "accelerator": "GPU",
  "colab": {
   "collapsed_sections": [],
   "default_view": {},
   "name": "script.ipynb",
   "private_outputs": true,
   "provenance": [],
   "version": "0.3.2",
   "views": {}
  },
  "kernelspec": {
   "display_name": "Python 3",
   "language": "python",
   "name": "python3"
  },
  "language_info": {
   "codemirror_mode": {
    "name": "ipython",
    "version": 3
   },
   "file_extension": ".py",
   "mimetype": "text/x-python",
   "name": "python",
   "nbconvert_exporter": "python",
   "pygments_lexer": "ipython3",
   "version": "3.5.2"
  }
 },
 "nbformat": 4,
 "nbformat_minor": 1
}
